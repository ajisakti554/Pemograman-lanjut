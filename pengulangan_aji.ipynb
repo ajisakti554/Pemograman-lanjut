{
  "nbformat": 4,
  "nbformat_minor": 0,
  "metadata": {
    "colab": {
      "provenance": [],
      "include_colab_link": true
    },
    "kernelspec": {
      "name": "python3",
      "display_name": "Python 3"
    },
    "language_info": {
      "name": "python"
    }
  },
  "cells": [
    {
      "cell_type": "markdown",
      "metadata": {
        "id": "view-in-github",
        "colab_type": "text"
      },
      "source": [
        "<a href=\"https://colab.research.google.com/github/ajisakti554/Pemograman-lanjut/blob/main/pengulangan_aji.ipynb\" target=\"_parent\"><img src=\"https://colab.research.google.com/assets/colab-badge.svg\" alt=\"Open In Colab\"/></a>"
      ]
    },
    {
      "cell_type": "markdown",
      "source": [
        "#**🖥️👩🏻‍💻PRAKTIKUM PEMROGRAMAN LANJUT🔥**\n",
        "##**Pertemuan (2) PENGULANGAN (LOOP) - Senin, 21 Oktober 2024**\n",
        "\n",
        "👤 Nama: Aji Sakti Saputra / NRP: 2C2230012 / Kelas: III/A Sains Data\n",
        "\n",
        "💬Deskripsi Pembahasan Materi Pengulangan:\n",
        "\n",
        "1.1.  Pengulangan (LOOP) 🔂\n",
        "- While Loop 🐋\n",
        "\n",
        "- For Loop\n",
        "\n",
        "1.2. Pengulangan Bersarang ( NESTED LOOP) 🔂🐦‍\n",
        "\n",
        "\n"
      ],
      "metadata": {
        "id": "_bN6_LxQCJZT"
      }
    },
    {
      "cell_type": "markdown",
      "source": [
        "#🤸🏻‍♀️ EKSPLORASI PRIBADI DI KELAS ✨"
      ],
      "metadata": {
        "id": "N0U2Qjks8P9F"
      }
    },
    {
      "cell_type": "markdown",
      "source": [
        "- Interpretasi coding:\n",
        "\n",
        "- Interpretasi Hasil:"
      ],
      "metadata": {
        "id": "f1J9LJyv9-YC"
      }
    },
    {
      "cell_type": "code",
      "source": [
        "\n",
        "my_list = [1, 2, 3]\n",
        "my_list[2]= 10 #list dapat diubah\n",
        "print(my_list) #output: [10, 2, 3]\n",
        "\n",
        "#PENGENALAN TUPLE Tuple adalah immutable, artinya setelah tuple dibuat, elemen-elemennya tidak bisa diubah, ditambah, atau dihapus.\n",
        "\n"
      ],
      "metadata": {
        "colab": {
          "base_uri": "https://localhost:8080/"
        },
        "id": "6ZjvTJf7M3kF",
        "outputId": "513f7702-55d6-4ba1-e77c-bac0b715e611"
      },
      "execution_count": null,
      "outputs": [
        {
          "output_type": "stream",
          "name": "stdout",
          "text": [
            "[1, 2, 10]\n"
          ]
        }
      ]
    },
    {
      "cell_type": "code",
      "source": [
        "my_tuple=(1, 2, 3)\n",
        "my_tuple[2]= 10 #akan menghasilkan error"
      ],
      "metadata": {
        "colab": {
          "base_uri": "https://localhost:8080/",
          "height": 158
        },
        "id": "Um-ID9llM8-p",
        "outputId": "dfb894b1-613c-4902-b6a2-b7f285e2d9db"
      },
      "execution_count": null,
      "outputs": [
        {
          "output_type": "error",
          "ename": "TypeError",
          "evalue": "'tuple' object does not support item assignment",
          "traceback": [
            "\u001b[0;31m---------------------------------------------------------------------------\u001b[0m",
            "\u001b[0;31mTypeError\u001b[0m                                 Traceback (most recent call last)",
            "\u001b[0;32m<ipython-input-3-3796fa4b9c27>\u001b[0m in \u001b[0;36m<cell line: 2>\u001b[0;34m()\u001b[0m\n\u001b[1;32m      1\u001b[0m \u001b[0mmy_tuple\u001b[0m\u001b[0;34m=\u001b[0m\u001b[0;34m(\u001b[0m\u001b[0;36m1\u001b[0m\u001b[0;34m,\u001b[0m \u001b[0;36m2\u001b[0m\u001b[0;34m,\u001b[0m \u001b[0;36m3\u001b[0m\u001b[0;34m)\u001b[0m\u001b[0;34m\u001b[0m\u001b[0;34m\u001b[0m\u001b[0m\n\u001b[0;32m----> 2\u001b[0;31m \u001b[0mmy_tuple\u001b[0m\u001b[0;34m[\u001b[0m\u001b[0;36m2\u001b[0m\u001b[0;34m]\u001b[0m\u001b[0;34m=\u001b[0m \u001b[0;36m10\u001b[0m \u001b[0;31m#akan menghasilkan error\u001b[0m\u001b[0;34m\u001b[0m\u001b[0;34m\u001b[0m\u001b[0m\n\u001b[0m",
            "\u001b[0;31mTypeError\u001b[0m: 'tuple' object does not support item assignment"
          ]
        }
      ]
    },
    {
      "cell_type": "code",
      "source": [
        "var_list = [1,2,3,4,5,6,7,8,9,10]\n",
        "for i in var_list:\n",
        "  print(i)"
      ],
      "metadata": {
        "colab": {
          "base_uri": "https://localhost:8080/"
        },
        "id": "dQ4wft1xNGUu",
        "outputId": "9d3072e4-e4c4-4734-9db6-1a44e0fa799b"
      },
      "execution_count": null,
      "outputs": [
        {
          "output_type": "stream",
          "name": "stdout",
          "text": [
            "1\n",
            "2\n",
            "3\n",
            "4\n",
            "5\n",
            "6\n",
            "7\n",
            "8\n",
            "9\n",
            "10\n"
          ]
        }
      ]
    },
    {
      "cell_type": "code",
      "source": [
        "huruf = \"Sains Data IKOPIN University\"\n",
        "for i in huruf:\n",
        "  print(i)"
      ],
      "metadata": {
        "colab": {
          "base_uri": "https://localhost:8080/"
        },
        "id": "uBfdzmnmNNpC",
        "outputId": "9b5c99ba-8aeb-4737-a791-86484845a470"
      },
      "execution_count": null,
      "outputs": [
        {
          "output_type": "stream",
          "name": "stdout",
          "text": [
            "S\n",
            "a\n",
            "i\n",
            "n\n",
            "s\n",
            " \n",
            "D\n",
            "a\n",
            "t\n",
            "a\n",
            " \n",
            "I\n",
            "K\n",
            "O\n",
            "P\n",
            "I\n",
            "N\n",
            " \n",
            "U\n",
            "n\n",
            "i\n",
            "v\n",
            "e\n",
            "r\n",
            "s\n",
            "i\n",
            "t\n",
            "y\n"
          ]
        }
      ]
    },
    {
      "cell_type": "code",
      "source": [
        "for i in range (10):\n",
        "  print(i)"
      ],
      "metadata": {
        "colab": {
          "base_uri": "https://localhost:8080/"
        },
        "id": "r0TEdmShNRpu",
        "outputId": "c231436b-2ce4-43be-ef03-6c2d95a30674"
      },
      "execution_count": null,
      "outputs": [
        {
          "output_type": "stream",
          "name": "stdout",
          "text": [
            "0\n",
            "1\n",
            "2\n",
            "3\n",
            "4\n",
            "5\n",
            "6\n",
            "7\n",
            "8\n",
            "9\n"
          ]
        }
      ]
    },
    {
      "cell_type": "code",
      "source": [
        "for i in range(1,10):\n",
        "  print(i)\n"
      ],
      "metadata": {
        "colab": {
          "base_uri": "https://localhost:8080/"
        },
        "id": "_F6waJe7NXWj",
        "outputId": "34f347bc-f701-4e2b-befc-89da09a57fa9"
      },
      "execution_count": null,
      "outputs": [
        {
          "output_type": "stream",
          "name": "stdout",
          "text": [
            "1\n",
            "2\n",
            "3\n",
            "4\n",
            "5\n",
            "6\n",
            "7\n",
            "8\n",
            "9\n"
          ]
        }
      ]
    },
    {
      "cell_type": "code",
      "source": [
        "for i in range (0,10,1):\n",
        "  print(i)\n"
      ],
      "metadata": {
        "colab": {
          "base_uri": "https://localhost:8080/"
        },
        "id": "6mNxzwXsNcEf",
        "outputId": "563af8e6-136b-42c1-83cb-00fde1310b2b"
      },
      "execution_count": null,
      "outputs": [
        {
          "output_type": "stream",
          "name": "stdout",
          "text": [
            "0\n",
            "1\n",
            "2\n",
            "3\n",
            "4\n",
            "5\n",
            "6\n",
            "7\n",
            "8\n",
            "9\n"
          ]
        }
      ]
    },
    {
      "cell_type": "code",
      "source": [
        "for i in range(1,10,2):\n",
        "  print(i)"
      ],
      "metadata": {
        "colab": {
          "base_uri": "https://localhost:8080/"
        },
        "id": "t38K9MUzNiVQ",
        "outputId": "2f8c3e20-daa1-457c-a51d-3ac18b4dbe1c"
      },
      "execution_count": null,
      "outputs": [
        {
          "output_type": "stream",
          "name": "stdout",
          "text": [
            "1\n",
            "3\n",
            "5\n",
            "7\n",
            "9\n"
          ]
        }
      ]
    },
    {
      "cell_type": "code",
      "source": [
        "for i in range (100):\n",
        "  print(\"YANG BACA INI SEMOGA AURA NYA +++ AAMIIN\")"
      ],
      "metadata": {
        "colab": {
          "base_uri": "https://localhost:8080/"
        },
        "id": "Ykku5KNJNl5E",
        "outputId": "9ffe1274-b72b-4de1-f1de-424b7e7d03b2"
      },
      "execution_count": null,
      "outputs": [
        {
          "output_type": "stream",
          "name": "stdout",
          "text": [
            "YANG BACA INI SEMOGA AURA NYA +++ AAMIIN\n",
            "YANG BACA INI SEMOGA AURA NYA +++ AAMIIN\n",
            "YANG BACA INI SEMOGA AURA NYA +++ AAMIIN\n",
            "YANG BACA INI SEMOGA AURA NYA +++ AAMIIN\n",
            "YANG BACA INI SEMOGA AURA NYA +++ AAMIIN\n",
            "YANG BACA INI SEMOGA AURA NYA +++ AAMIIN\n",
            "YANG BACA INI SEMOGA AURA NYA +++ AAMIIN\n",
            "YANG BACA INI SEMOGA AURA NYA +++ AAMIIN\n",
            "YANG BACA INI SEMOGA AURA NYA +++ AAMIIN\n",
            "YANG BACA INI SEMOGA AURA NYA +++ AAMIIN\n",
            "YANG BACA INI SEMOGA AURA NYA +++ AAMIIN\n",
            "YANG BACA INI SEMOGA AURA NYA +++ AAMIIN\n",
            "YANG BACA INI SEMOGA AURA NYA +++ AAMIIN\n",
            "YANG BACA INI SEMOGA AURA NYA +++ AAMIIN\n",
            "YANG BACA INI SEMOGA AURA NYA +++ AAMIIN\n",
            "YANG BACA INI SEMOGA AURA NYA +++ AAMIIN\n",
            "YANG BACA INI SEMOGA AURA NYA +++ AAMIIN\n",
            "YANG BACA INI SEMOGA AURA NYA +++ AAMIIN\n",
            "YANG BACA INI SEMOGA AURA NYA +++ AAMIIN\n",
            "YANG BACA INI SEMOGA AURA NYA +++ AAMIIN\n",
            "YANG BACA INI SEMOGA AURA NYA +++ AAMIIN\n",
            "YANG BACA INI SEMOGA AURA NYA +++ AAMIIN\n",
            "YANG BACA INI SEMOGA AURA NYA +++ AAMIIN\n",
            "YANG BACA INI SEMOGA AURA NYA +++ AAMIIN\n",
            "YANG BACA INI SEMOGA AURA NYA +++ AAMIIN\n",
            "YANG BACA INI SEMOGA AURA NYA +++ AAMIIN\n",
            "YANG BACA INI SEMOGA AURA NYA +++ AAMIIN\n",
            "YANG BACA INI SEMOGA AURA NYA +++ AAMIIN\n",
            "YANG BACA INI SEMOGA AURA NYA +++ AAMIIN\n",
            "YANG BACA INI SEMOGA AURA NYA +++ AAMIIN\n",
            "YANG BACA INI SEMOGA AURA NYA +++ AAMIIN\n",
            "YANG BACA INI SEMOGA AURA NYA +++ AAMIIN\n",
            "YANG BACA INI SEMOGA AURA NYA +++ AAMIIN\n",
            "YANG BACA INI SEMOGA AURA NYA +++ AAMIIN\n",
            "YANG BACA INI SEMOGA AURA NYA +++ AAMIIN\n",
            "YANG BACA INI SEMOGA AURA NYA +++ AAMIIN\n",
            "YANG BACA INI SEMOGA AURA NYA +++ AAMIIN\n",
            "YANG BACA INI SEMOGA AURA NYA +++ AAMIIN\n",
            "YANG BACA INI SEMOGA AURA NYA +++ AAMIIN\n",
            "YANG BACA INI SEMOGA AURA NYA +++ AAMIIN\n",
            "YANG BACA INI SEMOGA AURA NYA +++ AAMIIN\n",
            "YANG BACA INI SEMOGA AURA NYA +++ AAMIIN\n",
            "YANG BACA INI SEMOGA AURA NYA +++ AAMIIN\n",
            "YANG BACA INI SEMOGA AURA NYA +++ AAMIIN\n",
            "YANG BACA INI SEMOGA AURA NYA +++ AAMIIN\n",
            "YANG BACA INI SEMOGA AURA NYA +++ AAMIIN\n",
            "YANG BACA INI SEMOGA AURA NYA +++ AAMIIN\n",
            "YANG BACA INI SEMOGA AURA NYA +++ AAMIIN\n",
            "YANG BACA INI SEMOGA AURA NYA +++ AAMIIN\n",
            "YANG BACA INI SEMOGA AURA NYA +++ AAMIIN\n",
            "YANG BACA INI SEMOGA AURA NYA +++ AAMIIN\n",
            "YANG BACA INI SEMOGA AURA NYA +++ AAMIIN\n",
            "YANG BACA INI SEMOGA AURA NYA +++ AAMIIN\n",
            "YANG BACA INI SEMOGA AURA NYA +++ AAMIIN\n",
            "YANG BACA INI SEMOGA AURA NYA +++ AAMIIN\n",
            "YANG BACA INI SEMOGA AURA NYA +++ AAMIIN\n",
            "YANG BACA INI SEMOGA AURA NYA +++ AAMIIN\n",
            "YANG BACA INI SEMOGA AURA NYA +++ AAMIIN\n",
            "YANG BACA INI SEMOGA AURA NYA +++ AAMIIN\n",
            "YANG BACA INI SEMOGA AURA NYA +++ AAMIIN\n",
            "YANG BACA INI SEMOGA AURA NYA +++ AAMIIN\n",
            "YANG BACA INI SEMOGA AURA NYA +++ AAMIIN\n",
            "YANG BACA INI SEMOGA AURA NYA +++ AAMIIN\n",
            "YANG BACA INI SEMOGA AURA NYA +++ AAMIIN\n",
            "YANG BACA INI SEMOGA AURA NYA +++ AAMIIN\n",
            "YANG BACA INI SEMOGA AURA NYA +++ AAMIIN\n",
            "YANG BACA INI SEMOGA AURA NYA +++ AAMIIN\n",
            "YANG BACA INI SEMOGA AURA NYA +++ AAMIIN\n",
            "YANG BACA INI SEMOGA AURA NYA +++ AAMIIN\n",
            "YANG BACA INI SEMOGA AURA NYA +++ AAMIIN\n",
            "YANG BACA INI SEMOGA AURA NYA +++ AAMIIN\n",
            "YANG BACA INI SEMOGA AURA NYA +++ AAMIIN\n",
            "YANG BACA INI SEMOGA AURA NYA +++ AAMIIN\n",
            "YANG BACA INI SEMOGA AURA NYA +++ AAMIIN\n",
            "YANG BACA INI SEMOGA AURA NYA +++ AAMIIN\n",
            "YANG BACA INI SEMOGA AURA NYA +++ AAMIIN\n",
            "YANG BACA INI SEMOGA AURA NYA +++ AAMIIN\n",
            "YANG BACA INI SEMOGA AURA NYA +++ AAMIIN\n",
            "YANG BACA INI SEMOGA AURA NYA +++ AAMIIN\n",
            "YANG BACA INI SEMOGA AURA NYA +++ AAMIIN\n",
            "YANG BACA INI SEMOGA AURA NYA +++ AAMIIN\n",
            "YANG BACA INI SEMOGA AURA NYA +++ AAMIIN\n",
            "YANG BACA INI SEMOGA AURA NYA +++ AAMIIN\n",
            "YANG BACA INI SEMOGA AURA NYA +++ AAMIIN\n",
            "YANG BACA INI SEMOGA AURA NYA +++ AAMIIN\n",
            "YANG BACA INI SEMOGA AURA NYA +++ AAMIIN\n",
            "YANG BACA INI SEMOGA AURA NYA +++ AAMIIN\n",
            "YANG BACA INI SEMOGA AURA NYA +++ AAMIIN\n",
            "YANG BACA INI SEMOGA AURA NYA +++ AAMIIN\n",
            "YANG BACA INI SEMOGA AURA NYA +++ AAMIIN\n",
            "YANG BACA INI SEMOGA AURA NYA +++ AAMIIN\n",
            "YANG BACA INI SEMOGA AURA NYA +++ AAMIIN\n",
            "YANG BACA INI SEMOGA AURA NYA +++ AAMIIN\n",
            "YANG BACA INI SEMOGA AURA NYA +++ AAMIIN\n",
            "YANG BACA INI SEMOGA AURA NYA +++ AAMIIN\n",
            "YANG BACA INI SEMOGA AURA NYA +++ AAMIIN\n",
            "YANG BACA INI SEMOGA AURA NYA +++ AAMIIN\n",
            "YANG BACA INI SEMOGA AURA NYA +++ AAMIIN\n",
            "YANG BACA INI SEMOGA AURA NYA +++ AAMIIN\n",
            "YANG BACA INI SEMOGA AURA NYA +++ AAMIIN\n"
          ]
        }
      ]
    },
    {
      "cell_type": "code",
      "source": [
        "for i in range(2, 5, 1):\n",
        "    print(i)"
      ],
      "metadata": {
        "colab": {
          "base_uri": "https://localhost:8080/"
        },
        "id": "06UbQ1YoN4zN",
        "outputId": "be8892d3-6f6d-437b-895f-07d243593001"
      },
      "execution_count": null,
      "outputs": [
        {
          "output_type": "stream",
          "name": "stdout",
          "text": [
            "2\n",
            "3\n",
            "4\n"
          ]
        }
      ]
    },
    {
      "cell_type": "code",
      "source": [
        "a=int(input())\n",
        "b=int(input())\n",
        "for i in range(a,b+1):\n",
        "  print(i)"
      ],
      "metadata": {
        "colab": {
          "base_uri": "https://localhost:8080/"
        },
        "id": "P9l67q4mN-e9",
        "outputId": "b9c82114-4d71-4d02-85cb-7c8bacb2b916"
      },
      "execution_count": null,
      "outputs": [
        {
          "output_type": "stream",
          "name": "stdout",
          "text": [
            "10\n",
            "12\n",
            "10\n",
            "11\n",
            "12\n"
          ]
        }
      ]
    },
    {
      "cell_type": "code",
      "source": [
        "#PERULANGAN WHILE\n",
        "counter = 1 #nilai start\n",
        "while counter <= 5: #stop\n",
        "    print(counter)\n",
        "    counter += 1 #step #Increment/penambahan"
      ],
      "metadata": {
        "id": "OCIg2AwMOHJQ"
      },
      "execution_count": null,
      "outputs": []
    },
    {
      "cell_type": "code",
      "source": [
        "a=int(input())\n",
        "b=int(input())\n",
        "\n",
        "i=a\n",
        "while i<=b:\n",
        "  print(i)\n",
        "  i+=1"
      ],
      "metadata": {
        "colab": {
          "base_uri": "https://localhost:8080/"
        },
        "id": "fkOuyVTUOMeg",
        "outputId": "f4a11f83-2684-4f6f-a886-2c82384a7634"
      },
      "execution_count": null,
      "outputs": [
        {
          "output_type": "stream",
          "name": "stdout",
          "text": [
            "12\n",
            "32\n",
            "12\n",
            "13\n",
            "14\n",
            "15\n",
            "16\n",
            "17\n",
            "18\n",
            "19\n",
            "20\n",
            "21\n",
            "22\n",
            "23\n",
            "24\n",
            "25\n",
            "26\n",
            "27\n",
            "28\n",
            "29\n",
            "30\n",
            "31\n",
            "32\n"
          ]
        }
      ]
    },
    {
      "cell_type": "code",
      "source": [
        "#FOR NESTED LOOP\n",
        "n = int(input())\n",
        "\n",
        "for i in range(n):\n",
        "    for j in range(i+1):\n",
        "        print(\"*\", end=\"\")"
      ],
      "metadata": {
        "colab": {
          "base_uri": "https://localhost:8080/"
        },
        "id": "qJKXR3JYOT5v",
        "outputId": "b51ab637-20c0-44f3-9130-c5715f626a40"
      },
      "execution_count": null,
      "outputs": [
        {
          "output_type": "stream",
          "name": "stdout",
          "text": [
            "12\n",
            "******************************************************************************"
          ]
        }
      ]
    },
    {
      "cell_type": "code",
      "source": [
        "n = int(input())\n",
        "\n",
        "for i in range(n):\n",
        "    for j in range(i+1):\n",
        "        print(\"*\", end=\"\")\n",
        "    print()"
      ],
      "metadata": {
        "colab": {
          "base_uri": "https://localhost:8080/"
        },
        "id": "u5thWgLJOZ0o",
        "outputId": "f0bfafcb-eb2f-46ae-ea01-64413fa35411"
      },
      "execution_count": null,
      "outputs": [
        {
          "output_type": "stream",
          "name": "stdout",
          "text": [
            "12\n",
            "*\n",
            "**\n",
            "***\n",
            "****\n",
            "*****\n",
            "******\n",
            "*******\n",
            "********\n",
            "*********\n",
            "**********\n",
            "***********\n",
            "************\n"
          ]
        }
      ]
    },
    {
      "cell_type": "markdown",
      "source": [
        "#🧠 LATIHAN SOAL DI KELAS ⏱️"
      ],
      "metadata": {
        "id": "KEGjH0_P9D1-"
      }
    },
    {
      "cell_type": "code",
      "source": [
        "N = int(input(\"Masukkan nilai N: \"))\n",
        "\n",
        "for x in range(1, N+1):\n",
        "  if x % 2 == 0 and x % 3 == 0:\n",
        "    print(\"DuaTiga\", end=\" \")\n",
        "  elif x % 2 == 0:\n",
        "    print(\"Dua\", end=\" \")\n",
        "  elif x % 3 == 0:\n",
        "    print(\"Tiga\", end=\" \")\n",
        "  else:\n",
        "    print(x, end=\" \")\n",
        "print()"
      ],
      "metadata": {
        "colab": {
          "base_uri": "https://localhost:8080/"
        },
        "id": "TBA4hmuTRuDC",
        "outputId": "2692b9e8-9c72-442a-d97c-e6409f3c7e65"
      },
      "execution_count": null,
      "outputs": [
        {
          "output_type": "stream",
          "name": "stdout",
          "text": [
            "Masukkan nilai N: 12\n",
            "1 Dua Tiga Dua 5 DuaTiga 7 Dua Tiga Dua 11 DuaTiga \n"
          ]
        }
      ]
    },
    {
      "cell_type": "code",
      "source": [
        "N = int(input(\"Masukkan nilai N: \"))\n",
        "for i in range(N, 0, -1):\n",
        "  for j in range(1, i+1):\n",
        "    print(j, end=\"\")\n",
        "  print()"
      ],
      "metadata": {
        "colab": {
          "base_uri": "https://localhost:8080/"
        },
        "id": "K6JGsUZ5RlJJ",
        "outputId": "c2a5a0d8-4b19-4196-fc57-3bf0f3324e86"
      },
      "execution_count": null,
      "outputs": [
        {
          "output_type": "stream",
          "name": "stdout",
          "text": [
            "Masukkan nilai N: 12\n",
            "123456789101112\n",
            "1234567891011\n",
            "12345678910\n",
            "123456789\n",
            "12345678\n",
            "1234567\n",
            "123456\n",
            "12345\n",
            "1234\n",
            "123\n",
            "12\n",
            "1\n"
          ]
        }
      ]
    },
    {
      "cell_type": "code",
      "source": [
        "N= int(input(\"Masukkan nilai N: \"))\n",
        "\n",
        "for i in range (1, N+1):\n",
        "  print('*' *i)\n"
      ],
      "metadata": {
        "colab": {
          "base_uri": "https://localhost:8080/"
        },
        "id": "oyKGR-RZRaVS",
        "outputId": "cce7caf4-6b8c-452a-af29-f76c783cfaf8"
      },
      "execution_count": null,
      "outputs": [
        {
          "output_type": "stream",
          "name": "stdout",
          "text": [
            "Masukkan nilai N: 12\n",
            "*\n",
            "**\n",
            "***\n",
            "****\n",
            "*****\n",
            "******\n",
            "*******\n",
            "********\n",
            "*********\n",
            "**********\n",
            "***********\n",
            "************\n"
          ]
        }
      ]
    },
    {
      "cell_type": "code",
      "source": [
        "N = int(input(\"Masukkan N: \"))\n",
        "x = 0\n",
        "pangkat_10 = 1\n",
        "while pangkat_10 <= N:\n",
        "  x += 1\n",
        "  pangkat_10 = 10 ** x\n",
        "print(pangkat_10)"
      ],
      "metadata": {
        "colab": {
          "base_uri": "https://localhost:8080/"
        },
        "id": "oB2VnYxgRN_N",
        "outputId": "22a3b15d-e05c-4a2e-d13d-a26f12b8eb57"
      },
      "execution_count": null,
      "outputs": [
        {
          "output_type": "stream",
          "name": "stdout",
          "text": [
            "Masukkan N: 10\n",
            "100\n"
          ]
        }
      ]
    },
    {
      "cell_type": "code",
      "source": [
        "N = int(input(\"Masukkan N: \"))\n",
        "\n",
        "i= N + 1\n",
        "while i % 7 != 0:\n",
        "    print(i)\n",
        "    i += 1\n",
        "\n",
        "    print(\"Output: \", i)"
      ],
      "metadata": {
        "colab": {
          "base_uri": "https://localhost:8080/"
        },
        "id": "S3s6sWcERImr",
        "outputId": "b7fb357d-5a37-4bbc-c5c2-97dcd3deea77"
      },
      "execution_count": null,
      "outputs": [
        {
          "output_type": "stream",
          "name": "stdout",
          "text": [
            "Masukkan N: 12\n",
            "13\n",
            "Output:  14\n"
          ]
        }
      ]
    },
    {
      "cell_type": "code",
      "source": [
        "#Buatlah program yang menerima bilangan N dan menuliskan bilangan 10x terkecil yang lebih dari N.\n",
        "\n",
        "def cari_10pangkatx(n):\n",
        "  x = 0\n",
        "  pangkat10 = 1\n",
        "  while pangkat10 <= n:\n",
        "    x += 1\n",
        "    pangkat10 = 10 ** x\n",
        "  return pangkat10\n",
        "\n",
        "n = int(input(\"Masukkan bilangan N: \"))\n",
        "hasil = cari_10pangkatx(n)\n",
        "print(\"Bilangan 10 pangkat x terkecil yang lebih dari\", n, \"adalah:\", hasil)"
      ],
      "metadata": {
        "colab": {
          "base_uri": "https://localhost:8080/"
        },
        "id": "gY4gZ4mRQ5vI",
        "outputId": "a431dd05-ac8c-49e4-b645-cc540925da16"
      },
      "execution_count": null,
      "outputs": [
        {
          "output_type": "stream",
          "name": "stdout",
          "text": [
            "Masukkan bilangan N: 12\n",
            "Bilangan 10 pangkat x terkecil yang lebih dari 12 adalah: 100\n"
          ]
        }
      ]
    },
    {
      "cell_type": "code",
      "source": [
        "def buat_segitiga_angka(n):\n",
        "  for i in range(1, n + 1):\n",
        "    for j in range(i):\n",
        "      print(j + 1, end=\" \")\n",
        "    print()\n",
        "\n",
        "n = int(input(\"Masukkan bilangan N: \"))\n",
        "buat_segitiga_angka(n)\n"
      ],
      "metadata": {
        "colab": {
          "base_uri": "https://localhost:8080/"
        },
        "id": "IuiVKeE8RC7f",
        "outputId": "f839e7bb-0a2b-4289-b0dd-e8889c5db0af"
      },
      "execution_count": null,
      "outputs": [
        {
          "output_type": "stream",
          "name": "stdout",
          "text": [
            "Masukkan bilangan N: 12\n",
            "1 \n",
            "1 2 \n",
            "1 2 3 \n",
            "1 2 3 4 \n",
            "1 2 3 4 5 \n",
            "1 2 3 4 5 6 \n",
            "1 2 3 4 5 6 7 \n",
            "1 2 3 4 5 6 7 8 \n",
            "1 2 3 4 5 6 7 8 9 \n",
            "1 2 3 4 5 6 7 8 9 10 \n",
            "1 2 3 4 5 6 7 8 9 10 11 \n",
            "1 2 3 4 5 6 7 8 9 10 11 12 \n"
          ]
        }
      ]
    },
    {
      "cell_type": "code",
      "source": [
        "def kalkulator():\n",
        "    \"\"\"Fungsi untuk membuat kalkulator sederhana.\"\"\"\n",
        "\n",
        "    # Meminta input dari pengguna\n",
        "    angka1 = float(input(\"Masukkan angka pertama: \"))\n",
        "    operator = input(\"Masukkan operator (+, -, *, /): \")\n",
        "    angka2 = float(input(\"Masukkan angka kedua: \"))\n",
        "\n",
        "    # Melakukan perhitungan berdasarkan operator\n",
        "    if operator == \"+\":\n",
        "        hasil = angka1 + angka2\n",
        "    elif operator == \"-\":\n",
        "        hasil = angka1 - angka2\n",
        "    elif operator == \"*\":\n",
        "        hasil = angka1 * angka2\n",
        "    elif operator == \"/\":\n",
        "        if angka2 == 0:\n",
        "            print(\"Error: Pembagian dengan nol tidak diizinkan.\")\n",
        "            return\n",
        "        hasil = angka1 / angka2\n",
        "    else:\n",
        "        print(\"Error: Operator tidak valid.\")\n",
        "        return\n",
        "\n",
        "    # Menampilkan hasil\n",
        "    print(\"Hasil :\",hasil)\n",
        "\n",
        "# Memanggil fungsi kalkulator\n",
        "    kalkulator()"
      ],
      "metadata": {
        "id": "h7si6sBj9Mr4",
        "colab": {
          "base_uri": "https://localhost:8080/"
        },
        "outputId": "c5d5d189-88ad-42ed-e78e-a3962eb4085a"
      },
      "execution_count": null,
      "outputs": [
        {
          "output_type": "stream",
          "name": "stdout",
          "text": [
            "Masukkan angka pertama: 12\n",
            "Masukkan operator (+, -, *, /): /\n",
            "Masukkan angka kedua: 2\n",
            "Hasil : 6.0\n"
          ]
        }
      ]
    },
    {
      "cell_type": "markdown",
      "source": [
        "Problem (1) Kalkulator Sederhana"
      ],
      "metadata": {
        "id": "nt7-fY7s9PgC"
      }
    },
    {
      "cell_type": "markdown",
      "source": [
        "- Interpretasi coding:\n",
        "\n",
        "- Interpretasi Hasil:"
      ],
      "metadata": {
        "id": "Wou8YKfJ9lvY"
      }
    },
    {
      "cell_type": "markdown",
      "source": [
        "Problem (2) Bilangan Ganjil"
      ],
      "metadata": {
        "id": "Eucg6DUK9fgA"
      }
    },
    {
      "cell_type": "code",
      "source": [
        "def cek_ganjil_genap(awal, akhir):\n",
        "     \"\"\"Fungsi untuk mengecek bilangan ganjil genap dalam range tertentu.\"\"\"\n",
        "     for angka in range(awal, akhir + 1):\n",
        "       if angka % 2 == 0:\n",
        "         print('bilangan genap',angka)\n",
        "       else:\n",
        "         print('bilangan ganjil',angka)\n",
        "\n",
        "# Contoh penggunaan:\n",
        "awal = 1\n",
        "akhir = 10\n",
        "cek_ganjil_genap(awal, akhir)"
      ],
      "metadata": {
        "id": "9uWMEZpP9hlB",
        "colab": {
          "base_uri": "https://localhost:8080/"
        },
        "outputId": "4688a790-49b8-4795-df7d-57307f5b7fd3"
      },
      "execution_count": null,
      "outputs": [
        {
          "output_type": "stream",
          "name": "stdout",
          "text": [
            "bilangan ganjil 1\n",
            "bilangan genap 2\n",
            "bilangan ganjil 3\n",
            "bilangan genap 4\n",
            "bilangan ganjil 5\n",
            "bilangan genap 6\n",
            "bilangan ganjil 7\n",
            "bilangan genap 8\n",
            "bilangan ganjil 9\n",
            "bilangan genap 10\n"
          ]
        }
      ]
    },
    {
      "cell_type": "markdown",
      "source": [
        "- Interpretasi coding:\n",
        "\n",
        "- Interpretasi Hasil:"
      ],
      "metadata": {
        "id": "fM9Fo97_93Ni"
      }
    },
    {
      "cell_type": "markdown",
      "source": [
        "#🏆 POST TEST 🎯"
      ],
      "metadata": {
        "id": "J_75vTSXKFGE"
      }
    },
    {
      "cell_type": "markdown",
      "source": [
        "Problem (1)"
      ],
      "metadata": {
        "id": "twhHfrqiKSfV"
      }
    },
    {
      "cell_type": "code",
      "source": [
        "#LATIHAN SOAL 1\n",
        "def penyelesaian(n, a, b, c):\n",
        "  hasil = []\n",
        "  for x in range(1, n+1):\n",
        "    if x % a == 0 and x % b == 0 and x % c == 0:\n",
        "      hasil.append(\"Siap Bang Jago\")\n",
        "    elif x % a == 0 and x % b == 0:\n",
        "      hasil.append(\"Siap Bang\")\n",
        "    elif x % a == 0 and x % c == 0:\n",
        "      hasil.append(\"Siap Jago\")\n",
        "    elif x % b == 0 and x % c == 0:\n",
        "      hasil.append(\"Bang Jago\")\n",
        "    elif x % a == 0:\n",
        "      hasil.append(\"Siap\")\n",
        "    elif x % b == 0:\n",
        "      hasil.append(\"Bang\")\n",
        "    elif x % c == 0:\n",
        "      hasil.append(\"Jago\")\n",
        "    else:\n",
        "      hasil.append(x)\n",
        "  return hasil\n",
        "\n",
        "# Test Case 1\n",
        "print('test case ke 1')\n",
        "n = 12\n",
        "a = 2\n",
        "b = 3\n",
        "c = 4\n",
        "\n",
        "hasil = penyelesaian(n, a, b, c)\n",
        "\n",
        "print(hasil)\n",
        "def penyelesaian(n, a, b, c):\n",
        "  hasil = []\n",
        "  for x in range(1, n+1):\n",
        "    if x % a == 0 and x % b == 0 and x % c == 0:\n",
        "      hasil.append(\"Siap Bang Jago\")\n",
        "    elif x % a == 0 and x % b == 0:\n",
        "      hasil.append(\"Siap Bang\")\n",
        "    elif x % a == 0 and x % c == 0:\n",
        "      hasil.append(\"Siap Jago\")\n",
        "    elif x % b == 0 and x % c == 0:\n",
        "      hasil.append(\"Bang Jago\")\n",
        "    elif x % a == 0:\n",
        "      hasil.append(\"Siap\")\n",
        "    elif x % b == 0:\n",
        "      hasil.append(\"Bang\")\n",
        "    elif x % c == 0:\n",
        "      hasil.append(\"Jago\")\n",
        "    else:\n",
        "      hasil.append(x)\n",
        "  return hasil\n",
        "\n",
        "# Test Case 2\n",
        "print (' test Case ke 2')\n",
        "n = 5\n",
        "a = 1\n",
        "b = 1\n",
        "c = 1\n",
        "\n",
        "hasil = penyelesaian(n, a, b, c)\n",
        "\n",
        "print(hasil)"
      ],
      "metadata": {
        "id": "hOI8Gls9KV05",
        "colab": {
          "base_uri": "https://localhost:8080/"
        },
        "outputId": "ad3b0a73-e675-4090-b401-63acb6698ec0"
      },
      "execution_count": null,
      "outputs": [
        {
          "output_type": "stream",
          "name": "stdout",
          "text": [
            "test case ke 1\n",
            "[1, 'Siap', 'Bang', 'Siap Jago', 5, 'Siap Bang', 7, 'Siap Jago', 'Bang', 'Siap', 11, 'Siap Bang Jago']\n",
            " test Case ke 2\n",
            "['Siap Bang Jago', 'Siap Bang Jago', 'Siap Bang Jago', 'Siap Bang Jago', 'Siap Bang Jago']\n"
          ]
        }
      ]
    },
    {
      "cell_type": "markdown",
      "source": [
        "- Interpretasi coding:\n",
        "- Interpretasi hasil:"
      ],
      "metadata": {
        "id": "t9x---59KWVI"
      }
    },
    {
      "cell_type": "markdown",
      "source": [
        "📌Catatan:\n",
        "  - Notebook python ini dibuat untuk memudahkan temen-temen belajar ngoding dan pengumpulan tugas.\n",
        "  - Silakan download notebook ini lalu upload di Google Collab milik kalian agar format `pertemuan`, `topik pertemuan`,\n",
        "`tanggal`, `deskripsi pembahasan materi`, `baris coding` dan `interpretasi` bisa disesuaikan dengan kebutuhan teman-teman.\n",
        "\n",
        "  - Interpretasi coding dan hasil dimaksudkan agar teman-teman semakin memahami apa yang dipelajari.\n",
        "\n",
        "  - Deskripsi pembahasan materi dimaksudkan agar teman-teman semakin memahami apa fokus yang dipelajari.\n",
        "\n",
        "  - Tulisan di setiap sebelum baris code disebut `markdown`. Ada beberapa jenis simbol yang memudahkan kepenulisan `markdown` kita, yaitu seperti : untuk mengatur ukuran tulisan biasanya tulisan pada header menggunakan ini`#`, `##`, `###`, untuk membuat pointer menggunakan ini `-`, untuk membuat tulisan ter-highlight menggunakan ini *` `* , untuk short-cut membuat tulisan jadi **bold** gunakan ini `** **`, dan untuk *tulisan miring* gunakan ini `* *` .\n",
        "\n",
        "  - Semangat belajar! 🌟✨\n",
        "\n",
        "©️ LABORATORIUM SAINS DATA 2024"
      ],
      "metadata": {
        "id": "D-tRQnbQK69l"
      }
    }
  ]
}