{
  "nbformat": 4,
  "nbformat_minor": 0,
  "metadata": {
    "colab": {
      "provenance": [],
      "authorship_tag": "ABX9TyM5IK8Lp18grXYQ/NxIAduE",
      "include_colab_link": true
    },
    "kernelspec": {
      "name": "python3",
      "display_name": "Python 3"
    },
    "language_info": {
      "name": "python"
    }
  },
  "cells": [
    {
      "cell_type": "markdown",
      "metadata": {
        "id": "view-in-github",
        "colab_type": "text"
      },
      "source": [
        "<a href=\"https://colab.research.google.com/github/ajisakti554/Pemograman-lanjut/blob/main/Ajisakti_2C2230012.ipynb\" target=\"_parent\"><img src=\"https://colab.research.google.com/assets/colab-badge.svg\" alt=\"Open In Colab\"/></a>"
      ]
    },
    {
      "cell_type": "markdown",
      "source": [
        "**LATIHAN SOAL PEMOGRAMAN LANJUT (LAB)**\n",
        "\n",
        "SEVI NURAFNI\n",
        "\n",
        "\n",
        "Nama : Aji Sakti Saputra\n",
        "\n",
        "NRP : 2C2230012\n",
        "\n",
        "PEMOGRAMAN LANJUT LAB"
      ],
      "metadata": {
        "id": "ykD9itxtO8LC"
      }
    },
    {
      "cell_type": "markdown",
      "source": [
        "NOMOR 1"
      ],
      "metadata": {
        "id": "9oV8ZpLIcn2u"
      }
    },
    {
      "cell_type": "code",
      "source": [
        "#PROGRAM MEMBUAT berat badan sesuai input yang ditentukan\n",
        "\n",
        "beratbadan=int(input(\"Masukkan angka pertama: \"))\n",
        "if beratbadan >= 45 and beratbadan<=50 :\n",
        "  print(\"Berat badan anda Kelas A\")\n",
        "elif beratbadan >= 50 and beratbadan<=55 :\n",
        "  print(\"Berat badan anda Kelas B\")\n",
        "elif beratbadan >= 55 and beratbadan<=60 :\n",
        "  print(\"Berat badan anda Kelas C\")\n",
        "elif beratbadan >= 60 and beratbadan<=65 :\n",
        "  print('Berat badan anda kelas D')\n",
        "elif beratbadan >= 65 and beratbadan<=70 :\n",
        "  print(\"Berat badan anda kelas E\")\n",
        "else:\n",
        "  print(\"Tidak memenuhi kualifikasi\")\n",
        "\n",
        "\n",
        "\n"
      ],
      "metadata": {
        "colab": {
          "base_uri": "https://localhost:8080/"
        },
        "id": "lDzzugTuPFtB",
        "outputId": "72ad4a9b-c1be-47b7-ae59-6981a54cca02"
      },
      "execution_count": null,
      "outputs": [
        {
          "output_type": "stream",
          "name": "stdout",
          "text": [
            "Masukkan angka pertama: 50\n",
            "Berat badan anda Kelas A\n"
          ]
        }
      ]
    },
    {
      "cell_type": "markdown",
      "source": [
        "NOMOR 2"
      ],
      "metadata": {
        "id": "L3lHnNhScqNw"
      }
    },
    {
      "cell_type": "code",
      "source": [
        "angka = int(input(\"Masukkan bilangan bulat ratusan (harus 3 digit): \"))\n",
        "\n",
        "ratusan = angka // 100\n",
        "puluhan = (angka % 100) // 10\n",
        "satuan = angka % 10\n",
        "jumlah = ratusan**3 + puluhan**3 + satuan**3\n",
        "print(ratusan, \"^3 +\", puluhan, \"^3 +\", satuan, \"^3 =\", jumlah)\n",
        "\n",
        "if jumlah == angka:\n",
        "  print(\"Bilangan\", angka, \"adalah bilangan Armstrong\")\n",
        "else:\n",
        "  print(\"Bilangan\", angka, \"bukan bilangan Armstrong\")"
      ],
      "metadata": {
        "colab": {
          "base_uri": "https://localhost:8080/"
        },
        "id": "erf1Tp_1Q7Ng",
        "outputId": "d113fb77-f16e-4e69-91e3-a50da887cd05"
      },
      "execution_count": null,
      "outputs": [
        {
          "output_type": "stream",
          "name": "stdout",
          "text": [
            "Masukkan bilangan bulat ratusan (3 digit): 371\n",
            "3 ^3 + 7 ^3 + 1 ^3 = 371\n",
            "Bilangan 371 adalah bilangan Armstrong\n"
          ]
        }
      ]
    },
    {
      "cell_type": "markdown",
      "source": [
        "NOMOR 3"
      ],
      "metadata": {
        "id": "7OmhCOKncsGS"
      }
    },
    {
      "cell_type": "code",
      "source": [
        "# Program menghitung volume bola\n",
        "# Konstanta pi\n",
        "Pie = 3.1416\n",
        "r = float(input(\"Masukkan jari-jari bola (cm): \"))\n",
        "\n",
        "# Menghitung volume bola\n",
        "# Volume = 4/3 * π * r³\n",
        "volume = (4/3) * Pie * (r**3)\n",
        "\n",
        "print(' Hasil perhitungan volume bola:')\n",
        "print('jari-jari=',r,'cm')\n",
        "print('Volume bola = ',volume,\"cm^3\")"
      ],
      "metadata": {
        "colab": {
          "base_uri": "https://localhost:8080/"
        },
        "id": "aBlt3e9bUNQ0",
        "outputId": "afab6cce-c177-44de-cd91-910674a79a5f"
      },
      "execution_count": null,
      "outputs": [
        {
          "output_type": "stream",
          "name": "stdout",
          "text": [
            "Masukkan jari-jari bola (cm): 120\n",
            " Hasil perhitungan volume bola:\n",
            "jari-jari= 120.0 cm\n",
            "Volume bola =  7238246.399999999 cm^3\n"
          ]
        }
      ]
    },
    {
      "cell_type": "markdown",
      "source": [
        "NOMOR 4"
      ],
      "metadata": {
        "id": "ZjfPXhsvctvv"
      }
    },
    {
      "cell_type": "code",
      "source": [
        "# Program menghitung rata-rata tinggi siswa\n",
        "\n",
        "# Inisialisasi variabel\n",
        "total_tinggi = 0\n",
        "jumlah_siswa_valid = 0\n",
        "tinggi_valid = []\n",
        "\n",
        "# Input jumlah siswa\n",
        "n = int(input(\"Masukkan jumlah siswa: \"))\n",
        "\n",
        "# Input dan proses data tinggi siswa\n",
        "print(\"\\nMasukkan tinggi setiap siswa (dalam cm):\")\n",
        "for i in range(n):\n",
        "    tinggi = int(input(f\"Tinggi siswa ke-{i+1}: \"))\n",
        "\n",
        "    # Cek apakah tinggi valid (antara 100-200 cm)\n",
        "    if 100 <= tinggi <= 200:\n",
        "        total_tinggi += tinggi\n",
        "        jumlah_siswa_valid += 1\n",
        "        tinggi_valid.append(tinggi)\n",
        "\n",
        "# Hitung dan tampilkan hasil\n",
        "print(\"\\nHasil Perhitungan:\")\n",
        "if jumlah_siswa_valid > 0:\n",
        "    rata_rata = total_tinggi / jumlah_siswa_valid\n",
        "    print(\"Jumlah siswa total: \",n)\n",
        "    print(\"Jumlah siswa dengan tinggi valid:\",jumlah_siswa_valid)\n",
        "    print(\"Data tinggi yang valid: \",tinggi_valid)\n",
        "    print(\"Rata-rata tinggi: \",rata_rata,\" cm\")\n",
        "\n",
        "    if jumlah_siswa_valid < n:\n",
        "        print(\"Catatan:  data tinggi diabaikan karena di luar rentang 100-200 cm\",n - jumlah_siswa_valid)\n",
        "else:\n",
        "    print(\"Tidak ada data tinggi yang valid untuk dihitung (semua di luar rentang 100-200 cm)\")"
      ],
      "metadata": {
        "colab": {
          "base_uri": "https://localhost:8080/"
        },
        "id": "1ekh4DATWJ6P",
        "outputId": "297c244b-3d69-490c-cb08-40575e26b70d"
      },
      "execution_count": null,
      "outputs": [
        {
          "output_type": "stream",
          "name": "stdout",
          "text": [
            "Masukkan jumlah siswa: 4\n",
            "\n",
            "Masukkan tinggi setiap siswa (dalam cm):\n",
            "Tinggi siswa ke-1: 120\n",
            "Tinggi siswa ke-2: 145\n",
            "Tinggi siswa ke-3: 150\n",
            "Tinggi siswa ke-4: -999\n",
            "\n",
            "Hasil Perhitungan:\n",
            "Jumlah siswa total:  4\n",
            "Jumlah siswa dengan tinggi valid: 3\n",
            "Data tinggi yang valid:  [120, 145, 150]\n",
            "Rata-rata tinggi:  138.33333333333334  cm\n",
            "Catatan:  data tinggi diabaikan karena di luar rentang 100-200 cm 1\n"
          ]
        }
      ]
    },
    {
      "cell_type": "markdown",
      "source": [
        "NOMOR 5"
      ],
      "metadata": {
        "id": "M6Oid8BrcvoZ"
      }
    },
    {
      "cell_type": "code",
      "source": [
        "\n",
        "\n",
        "#Menhitung nilai akhir manusia dengan n mahsiswa\n",
        "\n",
        "nama=input('Masukkan Nama :')\n",
        "nilai_p=float(input('Masukkan Nilai Praktikum :'))\n",
        "nilai_UTS=float(input('Masukkan Nilai UTS :'))\n",
        "nilai_UAS=float(input('Masukkan Nilai UAS :'))\n",
        "\n",
        "#menghitung nilai akhir\n",
        "nilai_akhir=(nilai_p*0.2)+(nilai_UTS*0.4)+(nilai_UAS*0.4)\n",
        "\n",
        "print ('-------------HASIL PERHITUNGAN----------------')\n",
        "print('Nama :',nama)\n",
        "print('Nilai akhir :',nilai_akhir)\n",
        "if nilai_akhir>=85:\n",
        "  print('Indeks : A')\n",
        "elif nilai_akhir>=75:\n",
        "  print('Indeks : AB')\n",
        "elif nilai_akhir>=70:\n",
        "  print('Indeks : B')\n",
        "elif nilai_akhir>=60:\n",
        "  print('Indeks : AB')\n",
        "elif nilai_akhir>=50:\n",
        "  print('Indeks : C')\n",
        "elif nilai_akhir>=40:\n",
        "  print('Indeks : D')\n",
        "else:\n",
        "  print('Indeks : E')\n"
      ],
      "metadata": {
        "colab": {
          "base_uri": "https://localhost:8080/"
        },
        "id": "AoqgznS4Z16H",
        "outputId": "fe759964-fbc8-435f-c3ad-d93172a1927e"
      },
      "execution_count": null,
      "outputs": [
        {
          "output_type": "stream",
          "name": "stdout",
          "text": [
            "Masukkan Nama :Udin\n",
            "Masukkan Nilai Praktikum :50\n",
            "Masukkan Nilai UTS :50\n",
            "Masukkan Nilai UAS :50\n",
            "-------------HASIL PERHITUNGAN----------------\n",
            "Nama : Udin\n",
            "Nilai akhir : 50.0\n",
            "Indeks : C\n"
          ]
        }
      ]
    },
    {
      "cell_type": "code",
      "source": [],
      "metadata": {
        "id": "m2-kA69jaYDn"
      },
      "execution_count": null,
      "outputs": []
    }
  ]
}