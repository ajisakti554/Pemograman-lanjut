{
  "cells": [
    {
      "cell_type": "markdown",
      "metadata": {
        "id": "view-in-github",
        "colab_type": "text"
      },
      "source": [
        "<a href=\"https://colab.research.google.com/github/ajisakti554/Pemograman-lanjut/blob/main/FUNGSI.ipynb\" target=\"_parent\"><img src=\"https://colab.research.google.com/assets/colab-badge.svg\" alt=\"Open In Colab\"/></a>"
      ]
    },
    {
      "cell_type": "markdown",
      "metadata": {
        "id": "_bN6_LxQCJZT"
      },
      "source": [
        "#**🖥️👩🏻‍💻PRAKTIKUM PEMROGRAMAN LANJUT🔥**\n",
        "##**Matriks - Senin,  12 DESEMBER 2024**\n",
        "\n",
        "👤 Nama: Aji Sakti Saputra / NRP: 2C2230012 / Kelas: III/A Sains Data\n",
        "\n",
        "💬Deskripsi Pembahasan FUNGSI:\n",
        "\n",
        "\n",
        "\n",
        "\n"
      ]
    },
    {
      "cell_type": "markdown",
      "metadata": {
        "id": "N0U2Qjks8P9F"
      },
      "source": [
        "#🤸🏻‍♀️ EKSPLORASI PRIBADI DI KELAS ✨"
      ]
    },
    {
      "cell_type": "code",
      "execution_count": null,
      "metadata": {
        "colab": {
          "base_uri": "https://localhost:8080/"
        },
        "id": "itmMcxv88OIm",
        "outputId": "0eb01c37-e7c0-4f36-e077-b8f1060a318d"
      },
      "outputs": [
        {
          "name": "stdout",
          "output_type": "stream",
          "text": [
            "masukkan bilangan: 10\n",
            "100\n"
          ]
        }
      ],
      "source": [
        "def kuadrat(x):\n",
        "   x2= x*x\n",
        "   return x2\n",
        "\n",
        "n=int(input(\"masukkan bilangan: \"))\n",
        "n2=kuadrat(n)\n",
        "print(n2)\n",
        "\n"
      ]
    },
    {
      "cell_type": "markdown",
      "metadata": {
        "id": "ozGPXyMzzlz5"
      },
      "source": [
        "Contoh fungsi menghitung nilai ab:  "
      ]
    },
    {
      "cell_type": "code",
      "execution_count": null,
      "metadata": {
        "colab": {
          "base_uri": "https://localhost:8080/"
        },
        "id": "h3a4EGqU04yB",
        "outputId": "5c0fdfde-62c4-4186-ce96-084a1e3e7dc9"
      },
      "outputs": [
        {
          "name": "stdout",
          "output_type": "stream",
          "text": [
            "4\n",
            "8\n"
          ]
        }
      ],
      "source": [
        "def pangkat(a, b):  # Asumsi b >= 0\n",
        "    c = 1\n",
        "    for i in range(b):\n",
        "        c *= a\n",
        "    return c\n",
        "print (pangkat(2, 2))\n",
        "print (pangkat(2, 3))\n",
        "\n",
        "#a = inputan adari c*=a\n",
        "#b jumlah pengulangan dari range b, lalu masuk ke statement  yang c*=a"
      ]
    },
    {
      "cell_type": "code",
      "execution_count": null,
      "metadata": {
        "colab": {
          "background_save": true,
          "base_uri": "https://localhost:8080/"
        },
        "id": "TkT0jziK2qn3",
        "outputId": "57992913-4511-4d58-e45b-06267e345798"
      },
      "outputs": [
        {
          "name": "stdout",
          "output_type": "stream",
          "text": [
            "Menu:\n",
            "1. Burger\n",
            "2. Ayam Geprek\n",
            "3. Mie Instan\n",
            "Masukkan pilihan: \n"
          ]
        }
      ],
      "source": [
        "def tulis_menu(pil1, pil2, pil3):\n",
        "    print(\"Menu:\")\n",
        "    print(\"1. \" + str(pil1))\n",
        "    print(\"2. \" + str(pil2))\n",
        "    print(\"3. \" + str(pil3))\n",
        "    print(\"Masukkan pilihan: \")\n",
        "\n",
        "tulis_menu(\"Burger\", \"Ayam Geprek\", \"Mie Instan\")\n",
        "pilihan_makanan = int(input())\n",
        "\n",
        "tulis_menu(\"Jus Alpukat\", \"Thai Tea\", \"Teh Tarik\")\n",
        "pilihan_minuman = int(input())\n",
        "\n",
        "tulis_menu(\"Kentang\", \"Krupuk\", \"Abon\")\n",
        "pilihan_tambahan = int(input())\n"
      ]
    },
    {
      "cell_type": "markdown",
      "source": [
        "LATIHAN SOAL"
      ],
      "metadata": {
        "id": "9XiVD7Ts1ZIh"
      }
    },
    {
      "cell_type": "markdown",
      "source": [
        "A.\tFungsi Kuadrat"
      ],
      "metadata": {
        "id": "2XlizQ-P1pEw"
      }
    },
    {
      "cell_type": "code",
      "source": [
        "def f(x):\n",
        "    \"\"\"\n",
        "    Fungsi untuk menghitung f(x) = x² - 2x + 5\n",
        "\n",
        "    Parameter:\n",
        "    x (int/float): Nilai input untuk fungsi\n",
        "\n",
        "    Return:\n",
        "    int/float: Hasil perhitungan fungsi f(x)\n",
        "    \"\"\"\n",
        "    return x**2 - 2*x + 5\n",
        "\n",
        "def cetak_fungsi(A, B):\n",
        "    \"\"\"\n",
        "    Fungsi untuk mencetak nilai f(x) untuk rentang A hingga B\n",
        "\n",
        "    Parameter:\n",
        "    A (int): Batas awal rentang\n",
        "    B (int): Batas akhir rentang\n",
        "    \"\"\"\n",
        "    # Iterasi dari A hingga B (inklusif)\n",
        "    for x in range(A, B + 1):\n",
        "        # Hitung nilai f(x)\n",
        "        hasil = f(x)\n",
        "\n",
        "        # Cetak hasil\n",
        "        print(f\"f({x}) = {hasil}\")\n",
        "\n",
        "# Input dari pengguna\n",
        "try:\n",
        "    A = int(input(\"Masukkan A: \"))\n",
        "    B = int(input(\"Masukkan B: \"))\n",
        "\n",
        "    # Panggil fungsi untuk mencetak hasil\n",
        "    cetak_fungsi(A, B)\n",
        "\n",
        "except ValueError:\n",
        "    print(\"Masukan harus berupa bilangan bulat!\")"
      ],
      "metadata": {
        "colab": {
          "base_uri": "https://localhost:8080/"
        },
        "id": "_GTKbf7t1asg",
        "outputId": "a3b72098-9994-42bd-dcc7-1292c7013951"
      },
      "execution_count": 14,
      "outputs": [
        {
          "output_type": "stream",
          "name": "stdout",
          "text": [
            "Masukkan A: 3\n",
            "Masukkan B: 6\n",
            "f(3) = 8\n",
            "f(4) = 13\n",
            "f(5) = 20\n",
            "f(6) = 29\n"
          ]
        }
      ]
    },
    {
      "cell_type": "markdown",
      "source": [
        "B.\tValidasi Sandi"
      ],
      "metadata": {
        "id": "DSXuyUPi1r_y"
      }
    },
    {
      "cell_type": "code",
      "source": [
        "def validasi_sandi(password):\n",
        "    alasan = []  # List untuk menyimpan alasan jika sandi tidak valid\n",
        "\n",
        "    # Cek panjang sandi\n",
        "    if len(password) < 8:\n",
        "        alasan.append(\"Minimal 8 karakter.\")\n",
        "\n",
        "    # Cek huruf besar\n",
        "    if not any(char.isupper() for char in password):\n",
        "        alasan.append(\"Harus mengandung minimal satu huruf besar.\")\n",
        "\n",
        "    # Cek angka\n",
        "    if not any(char.isdigit() for char in password):\n",
        "        alasan.append(\"Harus mengandung minimal satu angka.\")\n",
        "\n",
        "    # Jika semua syarat terpenuhi\n",
        "    if not alasan:\n",
        "        return True\n",
        "    else:\n",
        "        # Gabungkan alasan menjadi string jika tidak valid\n",
        "        return False, \", \".join(alasan)\n",
        "\n",
        "# Contoh Input dan Output:\n",
        "password = input(\"Masukkan kata sandi: \")\n",
        "\n",
        "hasil = validasi_sandi(password)\n",
        "if hasil == True:\n",
        "    print(\"Sandi valid: True\")\n",
        "else:\n",
        "    print(f\"Sandi valid: False. Alasan: {hasil[1]}\")\n"
      ],
      "metadata": {
        "colab": {
          "base_uri": "https://localhost:8080/"
        },
        "id": "VWRF2Pb61yiH",
        "outputId": "e03a4956-e849-4c0e-fe7a-2bcecd25ae72"
      },
      "execution_count": 11,
      "outputs": [
        {
          "output_type": "stream",
          "name": "stdout",
          "text": [
            "Masukkan kata sandi: Ajisaktisaputra123\n",
            "Sandi valid: True\n"
          ]
        }
      ]
    },
    {
      "cell_type": "markdown",
      "source": [
        "C.\tDeterminan Matriks"
      ],
      "metadata": {
        "id": "3JrccXG_42go"
      }
    },
    {
      "cell_type": "code",
      "source": [
        "def determinant_2x2(matrix):\n",
        "    \"\"\"\n",
        "    Fungsi untuk menghitung determinan matriks 2x2\n",
        "\n",
        "    Parameter:\n",
        "    matrix (list of lists): Matriks 2x2 yang akan dihitung determinannya\n",
        "\n",
        "    Return:\n",
        "    int/float: Nilai determinan matriks\n",
        "    \"\"\"\n",
        "    # Cek apakah matriks memiliki ukuran 2x2\n",
        "    if len(matrix) != 2 or len(matrix[0]) != 2 or len(matrix[1]) != 2:\n",
        "        raise ValueError(\"Input harus berupa matriks 2x2\")\n",
        "\n",
        "    # Hitung determinan menggunakan rumus ad - bc\n",
        "    a = matrix[0][0]  # elemen baris 1, kolom 1\n",
        "    b = matrix[0][1]  # elemen baris 1, kolom 2\n",
        "    c = matrix[1][0]  # elemen baris 2, kolom 1\n",
        "    d = matrix[1][1]  # elemen baris 2, kolom 2\n",
        "\n",
        "    # Rumus determinan matriks 2x2: ad - bc\n",
        "    determinan = (a * d) - (b * c)\n",
        "\n",
        "    return determinan\n",
        "\n",
        "# Contoh penggunaan\n",
        "A = [[2, 3], [1, 4]]\n",
        "hasil = determinant_2x2(A)\n",
        "print(f\"Determinan = {hasil}\")"
      ],
      "metadata": {
        "colab": {
          "base_uri": "https://localhost:8080/"
        },
        "id": "iEcqy-d-45og",
        "outputId": "ba63afc0-c11a-474e-e952-f5202e7427ec"
      },
      "execution_count": 12,
      "outputs": [
        {
          "output_type": "stream",
          "name": "stdout",
          "text": [
            "Determinan = 5\n"
          ]
        }
      ]
    }
  ],
  "metadata": {
    "colab": {
      "provenance": [],
      "include_colab_link": true
    },
    "kernelspec": {
      "display_name": "Python 3",
      "name": "python3"
    },
    "language_info": {
      "name": "python"
    }
  },
  "nbformat": 4,
  "nbformat_minor": 0
}