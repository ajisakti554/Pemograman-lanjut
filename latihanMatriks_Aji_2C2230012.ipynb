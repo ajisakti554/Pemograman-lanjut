{
  "nbformat": 4,
  "nbformat_minor": 0,
  "metadata": {
    "colab": {
      "provenance": [],
      "authorship_tag": "ABX9TyMsA9LyHXx9TmEate8yvHjT",
      "include_colab_link": true
    },
    "kernelspec": {
      "name": "python3",
      "display_name": "Python 3"
    },
    "language_info": {
      "name": "python"
    }
  },
  "cells": [
    {
      "cell_type": "markdown",
      "metadata": {
        "id": "view-in-github",
        "colab_type": "text"
      },
      "source": [
        "<a href=\"https://colab.research.google.com/github/ajisakti554/Pemograman-lanjut/blob/main/latihanMatriks_Aji_2C2230012.ipynb\" target=\"_parent\"><img src=\"https://colab.research.google.com/assets/colab-badge.svg\" alt=\"Open In Colab\"/></a>"
      ]
    },
    {
      "cell_type": "markdown",
      "source": [
        "LATIHAN NOMOR 1"
      ],
      "metadata": {
        "id": "O1rpzQf9fwjs"
      }
    },
    {
      "cell_type": "code",
      "execution_count": 6,
      "metadata": {
        "colab": {
          "base_uri": "https://localhost:8080/"
        },
        "id": "LpcAR16t18fT",
        "outputId": "b403be47-55fa-4a6d-b94e-bf03d65573a1"
      },
      "outputs": [
        {
          "output_type": "stream",
          "name": "stdout",
          "text": [
            "Jumlah baris: 3\n",
            "Jumlah kolom: 3\n",
            "Elemen [1][1]: 1\n",
            "Elemen [1][2]: 2\n",
            "Elemen [1][3]: 3\n",
            "Elemen [2][1]: 1\n",
            "Elemen [2][2]: 2\n",
            "Elemen [2][3]: 3\n",
            "Elemen [3][1]: 1\n",
            "Elemen [3][2]: 2\n",
            "Elemen [3][3]: 3\n",
            "Masukkan pengali: 1\n",
            "\n",
            "Matriks Asli:\n",
            "1 2 3\n",
            "1 2 3\n",
            "1 2 3\n",
            "\n",
            "Matriks Hasil:\n",
            "1 2 3\n",
            "1 2 3\n",
            "1 2 3\n"
          ]
        }
      ],
      "source": [
        "def input_matriks():\n",
        "    baris = int(input(\"Jumlah baris: \"))\n",
        "    kolom = int(input(\"Jumlah kolom: \"))\n",
        "    return [[int(input(f\"Elemen [{i+1}][{j+1}]: \")) for j in range(kolom)] for i in range(baris)]\n",
        "\n",
        "def cetak_matriks(matriks):\n",
        "    for baris in matriks:\n",
        "        print(*baris)\n",
        "\n",
        "def kalikan_matriks(matriks, x):\n",
        "    return [[elemen * x for elemen in baris] for baris in matriks]\n",
        "\n",
        "# Program utama\n",
        "matriks = input_matriks()\n",
        "x = int(input(\"Masukkan pengali: \"))\n",
        "\n",
        "print(\"\\nMatriks Asli:\")\n",
        "cetak_matriks(matriks)\n",
        "\n",
        "print(\"\\nMatriks Hasil:\")\n",
        "cetak_matriks(kalikan_matriks(matriks, x))"
      ]
    },
    {
      "cell_type": "markdown",
      "source": [],
      "metadata": {
        "id": "OebTAm1Mfve5"
      }
    },
    {
      "cell_type": "markdown",
      "source": [
        "LATIHAN NOMOR 2"
      ],
      "metadata": {
        "id": "5pzHxbHlf2fi"
      }
    },
    {
      "cell_type": "code",
      "source": [
        "# Fungsi untuk mencetak matriks dengan rapi\n",
        "def print_matrix(matrix):\n",
        "    for row in matrix:\n",
        "        print(\" \".join(map(str, row)))\n",
        "    print()\n",
        "\n",
        "# Deklarasi matriks awal (M)\n",
        "M = [\n",
        "    [1, 2, 3],\n",
        "    [4, 5, 6],\n",
        "    [7, 8, 9]\n",
        "]\n",
        "\n",
        "# Menentukan ukuran baris dan kolom dari M\n",
        "rows = len(M)\n",
        "cols = len(M[0])\n",
        "\n",
        "# Membuat matriks transpose dengan ukuran yang sesuai\n",
        "M_transpose = [[0 for _ in range(rows)] for _ in range(cols)]\n",
        "\n",
        "# Menghitung transpose\n",
        "for i in range(rows):\n",
        "    for j in range(cols):\n",
        "        M_transpose[j][i] = M[i][j]\n",
        "\n",
        "# Menampilkan hasil\n",
        "print(\"Matriks Asli (M):\")\n",
        "print_matrix(M)\n",
        "\n",
        "print(\"Matriks Transpose (M_transpose):\")\n",
        "print_matrix(M_transpose)\n"
      ],
      "metadata": {
        "colab": {
          "base_uri": "https://localhost:8080/"
        },
        "id": "UurjkAwu6Mui",
        "outputId": "186a7ef6-07cf-4840-c5d0-7ab659bed8d3"
      },
      "execution_count": 3,
      "outputs": [
        {
          "output_type": "stream",
          "name": "stdout",
          "text": [
            "Matriks Asli (M):\n",
            "1 2 3\n",
            "4 5 6\n",
            "7 8 9\n",
            "\n",
            "Matriks Transpose (M_transpose):\n",
            "1 4 7\n",
            "2 5 8\n",
            "3 6 9\n",
            "\n"
          ]
        }
      ]
    },
    {
      "cell_type": "code",
      "source": [],
      "metadata": {
        "id": "O8PCbDCE798u"
      },
      "execution_count": null,
      "outputs": []
    }
  ]
}