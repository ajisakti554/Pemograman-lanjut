{
  "nbformat": 4,
  "nbformat_minor": 0,
  "metadata": {
    "colab": {
      "provenance": [],
      "include_colab_link": true
    },
    "kernelspec": {
      "name": "python3",
      "display_name": "Python 3"
    },
    "language_info": {
      "name": "python"
    }
  },
  "cells": [
    {
      "cell_type": "markdown",
      "metadata": {
        "id": "view-in-github",
        "colab_type": "text"
      },
      "source": [
        "<a href=\"https://colab.research.google.com/github/ajisakti554/Pemograman-lanjut/blob/main/PraktikumMatriks.ipynb\" target=\"_parent\"><img src=\"https://colab.research.google.com/assets/colab-badge.svg\" alt=\"Open In Colab\"/></a>"
      ]
    },
    {
      "cell_type": "markdown",
      "source": [
        "#**🖥️👩🏻‍💻PRAKTIKUM PEMROGRAMAN LANJUT🔥**\n",
        "##**Matriks - Senin,  9 DESEMBER 2024**\n",
        "\n",
        "👤 Nama: Aji Sakti Saputra / NRP: 2C2230012 / Kelas: III/A Sains Data\n",
        "\n",
        "💬Deskripsi Pembahasan Materi Matriks:\n",
        "\n",
        "\n",
        "\n",
        "\n"
      ],
      "metadata": {
        "id": "_bN6_LxQCJZT"
      }
    },
    {
      "cell_type": "markdown",
      "source": [
        "#🤸🏻‍♀️ EKSPLORASI PRIBADI DI KELAS ✨"
      ],
      "metadata": {
        "id": "N0U2Qjks8P9F"
      }
    },
    {
      "cell_type": "code",
      "execution_count": 2,
      "metadata": {
        "id": "itmMcxv88OIm",
        "colab": {
          "base_uri": "https://localhost:8080/",
          "height": 417
        },
        "outputId": "833535e0-f07d-4e62-8553-be0314c84868"
      },
      "outputs": [
        {
          "name": "stdout",
          "output_type": "stream",
          "text": [
            "1\n",
            "2\n",
            "3\n",
            "Masukkan elemen A baris1kolom1:1\n",
            "Masukkan elemen B baris1kolom1:2\n",
            "Masukkan elemen B baris1kolom2:3\n",
            "Masukkan elemen B baris1kolom3:3\n",
            "Masukkan elemen B baris2kolom1:1\n",
            "Masukkan elemen B baris2kolom2:2\n",
            "Masukkan elemen B baris2kolom3:3\n",
            "Masukkan elemen A baris2kolom2:4\n"
          ]
        },
        {
          "output_type": "error",
          "ename": "IndexError",
          "evalue": "list index out of range",
          "traceback": [
            "\u001b[0;31m---------------------------------------------------------------------------\u001b[0m",
            "\u001b[0;31mIndexError\u001b[0m                                Traceback (most recent call last)",
            "\u001b[0;32m<ipython-input-2-fc4450e09ccc>\u001b[0m in \u001b[0;36m<cell line: 8>\u001b[0;34m()\u001b[0m\n\u001b[1;32m      8\u001b[0m \u001b[0;32mfor\u001b[0m \u001b[0mi\u001b[0m \u001b[0;32min\u001b[0m \u001b[0mrange\u001b[0m\u001b[0;34m(\u001b[0m\u001b[0mn\u001b[0m\u001b[0;34m)\u001b[0m\u001b[0;34m:\u001b[0m\u001b[0;34m\u001b[0m\u001b[0;34m\u001b[0m\u001b[0m\n\u001b[1;32m      9\u001b[0m   \u001b[0;32mfor\u001b[0m \u001b[0mj\u001b[0m \u001b[0;32min\u001b[0m \u001b[0mrange\u001b[0m\u001b[0;34m(\u001b[0m\u001b[0mm\u001b[0m\u001b[0;34m)\u001b[0m\u001b[0;34m:\u001b[0m\u001b[0;34m\u001b[0m\u001b[0;34m\u001b[0m\u001b[0m\n\u001b[0;32m---> 10\u001b[0;31m     \u001b[0mA\u001b[0m\u001b[0;34m[\u001b[0m\u001b[0mi\u001b[0m\u001b[0;34m]\u001b[0m\u001b[0;34m[\u001b[0m\u001b[0mj\u001b[0m\u001b[0;34m]\u001b[0m\u001b[0;34m=\u001b[0m\u001b[0mint\u001b[0m\u001b[0;34m(\u001b[0m\u001b[0minput\u001b[0m\u001b[0;34m(\u001b[0m\u001b[0;34m'Masukkan elemen A baris'\u001b[0m\u001b[0;34m+\u001b[0m\u001b[0mstr\u001b[0m\u001b[0;34m(\u001b[0m\u001b[0mi\u001b[0m\u001b[0;34m+\u001b[0m\u001b[0;36m1\u001b[0m\u001b[0;34m)\u001b[0m\u001b[0;34m+\u001b[0m\u001b[0;34m\"kolom\"\u001b[0m\u001b[0;34m+\u001b[0m\u001b[0mstr\u001b[0m\u001b[0;34m(\u001b[0m\u001b[0mj\u001b[0m\u001b[0;34m+\u001b[0m\u001b[0;36m1\u001b[0m\u001b[0;34m)\u001b[0m\u001b[0;34m+\u001b[0m\u001b[0;34m\":\"\u001b[0m\u001b[0;34m)\u001b[0m\u001b[0;34m)\u001b[0m\u001b[0;34m\u001b[0m\u001b[0;34m\u001b[0m\u001b[0m\n\u001b[0m\u001b[1;32m     11\u001b[0m \u001b[0;34m\u001b[0m\u001b[0m\n\u001b[1;32m     12\u001b[0m     \u001b[0;32mfor\u001b[0m \u001b[0mi\u001b[0m \u001b[0;32min\u001b[0m \u001b[0mrange\u001b[0m\u001b[0;34m(\u001b[0m\u001b[0mm\u001b[0m\u001b[0;34m)\u001b[0m\u001b[0;34m:\u001b[0m\u001b[0;34m\u001b[0m\u001b[0;34m\u001b[0m\u001b[0m\n",
            "\u001b[0;31mIndexError\u001b[0m: list index out of range"
          ]
        }
      ],
      "source": [
        "n= int(input())\n",
        "m=int(input())\n",
        "l=int(input())\n",
        "\n",
        "A=[[0 for j in range(m)]for i in range(n)]\n",
        "B=[[0 for j in range(l)]for i in range(m)]\n",
        "\n",
        "for i in range(n):\n",
        "  for j in range(m):\n",
        "    A[i][j]=int(input('Masukkan elemen A baris'+str(i+1)+\"kolom\"+str(j+1)+\":\"))\n",
        "\n",
        "    for i in range(m):\n",
        "      for j in range(l):\n",
        "        B[i][j]=int(input('Masukkan elemen B baris'+str(i+1)+\"kolom\"+str(j+1)+\":\"))\n",
        "\n",
        "\n"
      ]
    },
    {
      "cell_type": "code",
      "source": [
        "import numpy as np\n",
        "x1=np.array([[2,3,4],[2,5,6],[6,7,8]])\n",
        "x1\n",
        "x2=np.dot(x1,x1)\n",
        "x2"
      ],
      "metadata": {
        "colab": {
          "base_uri": "https://localhost:8080/"
        },
        "id": "oi9lPBjGU5T9",
        "outputId": "f243d27d-f23f-4cb8-bfed-7e898f4cd61f"
      },
      "execution_count": 10,
      "outputs": [
        {
          "output_type": "execute_result",
          "data": {
            "text/plain": [
              "array([[ 34,  49,  58],\n",
              "       [ 50,  73,  86],\n",
              "       [ 74, 109, 130]])"
            ]
          },
          "metadata": {},
          "execution_count": 10
        }
      ]
    },
    {
      "cell_type": "markdown",
      "source": [
        "MATRIKS DENGAN LIST"
      ],
      "metadata": {
        "id": "SxzvtnVHj2tw"
      }
    },
    {
      "cell_type": "code",
      "source": [
        "ls=([2,3,4],[2,5,6],[6,7,8])\n",
        "ls"
      ],
      "metadata": {
        "colab": {
          "base_uri": "https://localhost:8080/"
        },
        "id": "4PQC7moVU6Kl",
        "outputId": "681d8d59-6e01-4a1f-e337-a62a4295b28d"
      },
      "execution_count": 6,
      "outputs": [
        {
          "output_type": "execute_result",
          "data": {
            "text/plain": [
              "([2, 3, 4], [2, 5, 6], [6, 7, 8])"
            ]
          },
          "metadata": {},
          "execution_count": 6
        }
      ]
    },
    {
      "cell_type": "code",
      "source": [],
      "metadata": {
        "id": "XK87-3Y-VH6N",
        "colab": {
          "base_uri": "https://localhost:8080/"
        },
        "outputId": "5450b4ed-764e-4f00-acd0-5e8815187810"
      },
      "execution_count": 9,
      "outputs": [
        {
          "output_type": "execute_result",
          "data": {
            "text/plain": [
              "array([[ 34,  49,  58],\n",
              "       [ 50,  73,  86],\n",
              "       [ 74, 109, 130]])"
            ]
          },
          "metadata": {},
          "execution_count": 9
        }
      ]
    },
    {
      "cell_type": "markdown",
      "source": [
        "#🧠 LATIHAN SOAL DI KELAS ⏱️"
      ],
      "metadata": {
        "id": "KEGjH0_P9D1-"
      }
    },
    {
      "cell_type": "markdown",
      "source": [
        "NOMOR 1. MEMBUAT SEGITIGA PASCAL"
      ],
      "metadata": {
        "id": "fvf41rrsmtR3"
      }
    },
    {
      "cell_type": "code",
      "source": [
        "def pascal_triangle(n):\n",
        "    \"\"\"Fungsi untuk mencetak segitiga Pascal sederhana hingga n baris.\"\"\"\n",
        "    triangle = []  # Menyimpan seluruh segitiga Pascal\n",
        "\n",
        "    for i in range(n):\n",
        "        row = [1]  # Baris selalu diawali dengan 1\n",
        "        if triangle:  # Jika segitiga sudah memiliki baris sebelumnya\n",
        "            last_row = triangle[-1]\n",
        "            row.extend([last_row[j] + last_row[j + 1] for j in range(len(last_row) - 1)])\n",
        "            row.append(1)  # Tambahkan 1 di akhir baris\n",
        "        triangle.append(row)  # Simpan baris ke segitiga\n",
        "\n",
        "    # Cetak segitiga Pascal dengan format rapi\n",
        "    max_width = len(' '.join(map(str, triangle[-1])))\n",
        "    for row in triangle:\n",
        "        print(' '.join(map(str, row)).center(max_width))\n",
        "\n",
        "# Contoh: Mencetak segitiga Pascal dengan 5 baris\n",
        "pascal_triangle(5)\n"
      ],
      "metadata": {
        "id": "h7si6sBj9Mr4",
        "colab": {
          "base_uri": "https://localhost:8080/"
        },
        "outputId": "7e244e33-7338-4da1-e9cb-740996568526"
      },
      "execution_count": 11,
      "outputs": [
        {
          "output_type": "stream",
          "name": "stdout",
          "text": [
            "    1    \n",
            "   1 1   \n",
            "  1 2 1  \n",
            " 1 3 3 1 \n",
            "1 4 6 4 1\n"
          ]
        }
      ]
    },
    {
      "cell_type": "markdown",
      "source": [],
      "metadata": {
        "id": "BbTEtDHcbktt"
      }
    },
    {
      "cell_type": "markdown",
      "source": [
        "NOMOR DUA LINEAR ALGEBRA\n",
        "\n",
        "2. Linear Algebra*\n",
        "\n",
        "Menentukan Determinan dari Matriks\n",
        "A = [1,2]\n",
        "    [3,4]\n",
        "\n",
        "B = [-1,3,0]\n",
        "    [2,1,-5]\n",
        "    [1,4,2]"
      ],
      "metadata": {
        "id": "KXKsZwMVmx47"
      }
    },
    {
      "cell_type": "code",
      "source": [
        "import numpy as np\n",
        "\n",
        "# Matriks A dan B\n",
        "A = np.array([[1, 2],\n",
        "              [3, 4]])\n",
        "B = np.array([[-1, 3, 0],\n",
        "              [2, 1, -5],\n",
        "               [1, 4, -2]])\n",
        "\n",
        "# Menghitung determinan\n",
        "det_A = np.linalg.det(A)\n",
        "det_B = np.linalg.det(B)\n",
        "\n",
        "print(f\"Determinan matriks A: {det_A}\")\n",
        "print(f\"Determinan matriks B: {det_B}\")\n",
        "\n"
      ],
      "metadata": {
        "colab": {
          "base_uri": "https://localhost:8080/"
        },
        "id": "m7E4PzCLTnp-",
        "outputId": "84e48d43-295b-49cc-e621-051a6b8becc4"
      },
      "execution_count": 12,
      "outputs": [
        {
          "output_type": "stream",
          "name": "stdout",
          "text": [
            "Determinan matriks A: -2.0000000000000004\n",
            "Determinan matriks B: -21.00000000000001\n"
          ]
        }
      ]
    },
    {
      "cell_type": "markdown",
      "source": [
        "NOMOR 3\n",
        "\n",
        "TENTUKAN TRANSPOSE DARI\n",
        "\n",
        "A=[1 3 7 2]\n",
        "\n",
        "  [5 8 -9 0]\n",
        "\n",
        "  [6 -7 11 12]"
      ],
      "metadata": {
        "id": "wPdS5AfXpgN9"
      }
    },
    {
      "cell_type": "code",
      "source": [
        "import numpy as np\n",
        "\n",
        "# Definisikan matriks A\n",
        "A = np.array([\n",
        "    [1, 3, 7, 2],\n",
        "    [5, 8, -9, 0],\n",
        "    [6, -7, 11, 12]\n",
        "])\n",
        "\n",
        "# Hitung transpose matriks\n",
        "A_transpose = A.T\n",
        "\n",
        "print(\"Matriks A:\")\n",
        "print(A)\n",
        "print(\"\\nTranspose Matriks A:\")\n",
        "print(A_transpose)"
      ],
      "metadata": {
        "colab": {
          "base_uri": "https://localhost:8080/"
        },
        "id": "kE6Xg0WYet4O",
        "outputId": "e61a3368-7a9b-4a73-bff2-0f8c95f481b1"
      },
      "execution_count": 18,
      "outputs": [
        {
          "output_type": "stream",
          "name": "stdout",
          "text": [
            "Matriks A:\n",
            "[[ 1  3  7  2]\n",
            " [ 5  8 -9  0]\n",
            " [ 6 -7 11 12]]\n",
            "\n",
            "Transpose Matriks A:\n",
            "[[ 1  5  6]\n",
            " [ 3  8 -7]\n",
            " [ 7 -9 11]\n",
            " [ 2  0 12]]\n"
          ]
        }
      ]
    }
  ]
}