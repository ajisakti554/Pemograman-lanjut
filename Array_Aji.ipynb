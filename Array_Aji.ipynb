{
  "nbformat": 4,
  "nbformat_minor": 0,
  "metadata": {
    "colab": {
      "provenance": [],
      "include_colab_link": true
    },
    "kernelspec": {
      "name": "python3",
      "display_name": "Python 3"
    },
    "language_info": {
      "name": "python"
    }
  },
  "cells": [
    {
      "cell_type": "markdown",
      "metadata": {
        "id": "view-in-github",
        "colab_type": "text"
      },
      "source": [
        "<a href=\"https://colab.research.google.com/github/ajisakti554/Pemograman-lanjut/blob/main/Array_Aji.ipynb\" target=\"_parent\"><img src=\"https://colab.research.google.com/assets/colab-badge.svg\" alt=\"Open In Colab\"/></a>"
      ]
    },
    {
      "cell_type": "markdown",
      "source": [
        "#**🖥️👩🏻‍💻PRAKTIKUM PEMROGRAMAN LANJUT🔥**\n",
        "##**Pertemuan (3) Array - Senin, 28 Oktober 2024**\n",
        "\n",
        "👤 Nama: Aji Sakti Saputra / NRP: 2C2230012 / Kelas: III/A Sains Data\n",
        "\n",
        "💬Deskripsi Pembahasan Materi Array:\n",
        "\n",
        "\n",
        "\n",
        "\n"
      ],
      "metadata": {
        "id": "_bN6_LxQCJZT"
      }
    },
    {
      "cell_type": "markdown",
      "source": [
        "#🤸🏻‍♀️ EKSPLORASI PRIBADI DI KELAS ✨"
      ],
      "metadata": {
        "id": "N0U2Qjks8P9F"
      }
    },
    {
      "cell_type": "code",
      "execution_count": null,
      "metadata": {
        "id": "itmMcxv88OIm",
        "colab": {
          "base_uri": "https://localhost:8080/"
        },
        "outputId": "71afb758-493e-4b97-f0cd-6bc799c7231d"
      },
      "outputs": [
        {
          "output_type": "stream",
          "name": "stdout",
          "text": [
            "['kamu lucu', 'kamu lucu', 'kamu lucu', 'kamu lucu', 'kamu lucu']\n"
          ]
        }
      ],
      "source": [
        "#X= [1,2,3,4,5,6,7,8,9,10]\n",
        "#n =int(input())\n",
        "#X = [\"*\"for i in range(100)]\n",
        "#print(X)\n",
        "\n",
        "#X = [\"KAMU LUCUU\" for i in range(n)]\n",
        "#print(X)\n",
        "\n",
        "aji=['kamu lucu'for i in range(5)]\n",
        "print(aji)"
      ]
    },
    {
      "cell_type": "code",
      "source": [
        "##CONTOH 1\n",
        "\n",
        "cars = ['Ford', 'Volvo', 'BMW']\n",
        "\n",
        "cars[0] = 'Toyota' #mengganti list\n",
        "\n",
        "print(cars)"
      ],
      "metadata": {
        "colab": {
          "base_uri": "https://localhost:8080/"
        },
        "id": "oi9lPBjGU5T9",
        "outputId": "78caa439-afd8-4981-c5ff-23bbb9be331c"
      },
      "execution_count": null,
      "outputs": [
        {
          "output_type": "stream",
          "name": "stdout",
          "text": [
            "['Toyota', 'Volvo', 'BMW']\n"
          ]
        }
      ]
    },
    {
      "cell_type": "code",
      "source": [
        "cars = ['Ford', 'Volvo', 'BMW']\n",
        "\n",
        "cars.append('Honda') #menambahkan list (.append)\n",
        "cars.pop(1)#menghapus list (.pop)\n",
        "print(cars)\n",
        "print(len(cars)) #len fungsinya menampilkan jumlah list\n",
        "\n",
        "#remove()menghapus nilai di item pertama\n",
        "#reverse()\n",
        "#\n"
      ],
      "metadata": {
        "colab": {
          "base_uri": "https://localhost:8080/"
        },
        "id": "4PQC7moVU6Kl",
        "outputId": "dfffc01a-4d1a-45e8-be31-79347a2d9c26"
      },
      "execution_count": null,
      "outputs": [
        {
          "output_type": "stream",
          "name": "stdout",
          "text": [
            "['Ford', 'BMW', 'Honda']\n",
            "3\n"
          ]
        }
      ]
    },
    {
      "cell_type": "code",
      "source": [],
      "metadata": {
        "id": "XK87-3Y-VH6N"
      },
      "execution_count": null,
      "outputs": []
    },
    {
      "cell_type": "markdown",
      "source": [
        "#🧠 LATIHAN SOAL DI KELAS ⏱️"
      ],
      "metadata": {
        "id": "KEGjH0_P9D1-"
      }
    },
    {
      "cell_type": "code",
      "source": [
        "#NO 1 METODE TANPA INPUT\n",
        "aji=[i for i in range(1,7) if i !=4]\n",
        "#Output seharusnya [1,2,3,5,6,7]\n",
        "aji.reverse()\n",
        "print(aji)\n",
        "\n",
        "\n",
        "\n"
      ],
      "metadata": {
        "id": "h7si6sBj9Mr4",
        "colab": {
          "base_uri": "https://localhost:8080/"
        },
        "outputId": "b1752310-5dc0-4dd1-ff01-9e91eeba4e88"
      },
      "execution_count": null,
      "outputs": [
        {
          "output_type": "stream",
          "name": "stdout",
          "text": [
            "[6, 5, 3, 2, 1]\n"
          ]
        }
      ]
    },
    {
      "cell_type": "markdown",
      "source": [],
      "metadata": {
        "id": "BbTEtDHcbktt"
      }
    },
    {
      "cell_type": "code",
      "source": [
        "#NO 1 MENGGUNAKAN INPUT\n",
        "\n",
        "n=int(input('Masukkan bilangan :'))\n",
        "bilangan=[]\n",
        "for i in range(1,n+1):\n",
        "  bilangan.append(int(input(f'Masukkan bilangan ke-{i} : ')))\n",
        "bilangan.reverse()\n",
        "print(bilangan)\n"
      ],
      "metadata": {
        "colab": {
          "base_uri": "https://localhost:8080/"
        },
        "id": "m7E4PzCLTnp-",
        "outputId": "62c3d1b2-7f19-4f32-e2cf-fb18ab06c763"
      },
      "execution_count": null,
      "outputs": [
        {
          "output_type": "stream",
          "name": "stdout",
          "text": [
            "Masukkan bilangan :5\n",
            "Masukkan bilangan ke-1 : 5\n",
            "Masukkan bilangan ke-2 : 2\n",
            "Masukkan bilangan ke-3 : 1\n",
            "Masukkan bilangan ke-4 : 6\n",
            "Masukkan bilangan ke-5 : 3\n",
            "[3, 6, 1, 2, 5]\n"
          ]
        }
      ]
    },
    {
      "cell_type": "markdown",
      "source": [
        "**Interpretasi coding:** Program ini meminta pengguna memasukkan jumlah angka yang ingin mereka masukkan (disebut dengan N). Setelah itu, program meminta pengguna untuk memasukkan setiap angka satu per satu. Dan setelah semua angka dimasukkan, program akan membalik urutan angka tersebut. Terakhir, program akan mencetak urutan angka yang sudah dibalik.\n",
        "\n",
        "**Interpretasi Hasil:** Program ini meminta memasukkan jumlah angka, yang dimana N = 5 Kemudian, program ini meminta memasukkan 5 angka satu per satu dengan angka 5, 2, 1, 6, dan 3. Setelah semua angka dimasukkan, program membalik urutan angka-angka tersebut. Hasil akhirnya, program menampilkan angka-angka dalam urutan terbalik:3,6,1,2,5."
      ],
      "metadata": {
        "id": "7VQGn5LFdh7S"
      }
    },
    {
      "cell_type": "code",
      "source": [
        "#NO 2\n",
        "#OUTPUT 1\n",
        "def cek_anagram(A, B):\n",
        "    # Jika panjang array berbeda, pasti bukan anagram\n",
        "    if len(A) != len(B):\n",
        "        return False\n",
        "\n",
        "    # Buat tabel frekuensi untuk array A dan B\n",
        "    # Menggunakan list dengan panjang 11 (indeks 0-10) karena elemen maksimal 10\n",
        "    freq_A = [0] * 11\n",
        "    freq_B = [0] * 11\n",
        "\n",
        "    # Hitung frekuensi setiap angka di array A\n",
        "    for num in A:\n",
        "        freq_A[num] += 1\n",
        "\n",
        "    # Hitung frekuensi setiap angka di array B\n",
        "    for num in B:\n",
        "        freq_B[num] += 1\n",
        "\n",
        "    # Bandingkan tabel frekuensi\n",
        "    # Jika sama, maka B adalah anagram dari A\n",
        "    return freq_A == freq_B\n",
        "\n",
        "# Input array A\n",
        "n = int(input(\"Masukkan banyaknya elemen A: \"))\n",
        "A = []\n",
        "for i in range(n):\n",
        "    elem = int(input(f\"Masukkan elemen A ke-{i+1}: \"))\n",
        "    A.append(elem)\n",
        "\n",
        "# Input array B\n",
        "m = int(input(\"Masukkan banyaknya elemen B: \"))\n",
        "B = []\n",
        "for i in range(m):\n",
        "    elem = int(input(f\"Masukkan elemen B ke-{i+1}: \"))\n",
        "    B.append(elem)\n",
        "\n",
        "# Cek dan tampilkan hasil\n",
        "if cek_anagram(A, B):\n",
        "    print(\"B adalah anagram dari A\")\n",
        "else:\n",
        "    print(\"B bukan anagram dari A\")"
      ],
      "metadata": {
        "id": "9uWMEZpP9hlB",
        "colab": {
          "base_uri": "https://localhost:8080/"
        },
        "outputId": "4ec0c27c-2fcd-445c-9d52-bc3d4f994dd2"
      },
      "execution_count": null,
      "outputs": [
        {
          "output_type": "stream",
          "name": "stdout",
          "text": [
            "Masukkan banyaknya elemen A: 3\n",
            "Masukkan elemen A ke-1: 8\n",
            "Masukkan elemen A ke-2: 4\n",
            "Masukkan elemen A ke-3: 3\n",
            "Masukkan banyaknya elemen B: 3\n",
            "Masukkan elemen B ke-1: 4\n",
            "Masukkan elemen B ke-2: 8\n",
            "Masukkan elemen B ke-3: 3\n",
            "B adalah anagram dari A\n"
          ]
        }
      ]
    },
    {
      "cell_type": "code",
      "source": [
        "#NOMOR 2\n",
        "#OUTPUT 2\n",
        "def cek_anagram(A, B):\n",
        "    # Jika panjang array berbeda, pasti bukan anagram\n",
        "    if len(A) != len(B):\n",
        "        return False\n",
        "\n",
        "    # Buat tabel frekuensi untuk array A dan B\n",
        "    # Menggunakan list dengan panjang 11 (indeks 0-10) karena elemen maksimal 10\n",
        "    freq_A = [0] * 11\n",
        "    freq_B = [0] * 11\n",
        "\n",
        "    # Hitung frekuensi setiap angka di array A\n",
        "    for num in A:\n",
        "        freq_A[num] += 1\n",
        "\n",
        "    # Hitung frekuensi setiap angka di array B\n",
        "    for num in B:\n",
        "        freq_B[num] += 1\n",
        "\n",
        "    # Bandingkan tabel frekuensi\n",
        "    # Jika sama, maka B adalah anagram dari A\n",
        "    return freq_A == freq_B\n",
        "\n",
        "# Input array A\n",
        "n = int(input(\"Masukkan banyaknya elemen A: \"))\n",
        "A = []\n",
        "for i in range(n):\n",
        "    elem = int(input(f\"Masukkan elemen A ke-{i+1}: \"))\n",
        "    A.append(elem)\n",
        "\n",
        "# Input array B\n",
        "m = int(input(\"Masukkan banyaknya elemen B: \"))\n",
        "B = []\n",
        "for i in range(m):\n",
        "    elem = int(input(f\"Masukkan elemen B ke-{i+1}: \"))\n",
        "    B.append(elem)\n",
        "\n",
        "# Cek dan tampilkan hasil\n",
        "if cek_anagram(A, B):\n",
        "    print(\"B adalah anagram dari A\")\n",
        "else:\n",
        "    print(\"B bukan anagram dari A\")"
      ],
      "metadata": {
        "colab": {
          "base_uri": "https://localhost:8080/"
        },
        "id": "kE6Xg0WYet4O",
        "outputId": "ee214d03-b87c-401a-f9f9-935f9cb383cd"
      },
      "execution_count": null,
      "outputs": [
        {
          "output_type": "stream",
          "name": "stdout",
          "text": [
            "Masukkan banyaknya elemen A: 2\n",
            "Masukkan elemen A ke-1: 1\n",
            "Masukkan elemen A ke-2: 4\n",
            "Masukkan banyaknya elemen B: 2\n",
            "Masukkan elemen B ke-1: 1\n",
            "Masukkan elemen B ke-2: 5\n",
            "B bukan anagram dari A\n"
          ]
        }
      ]
    },
    {
      "cell_type": "markdown",
      "source": [
        "**Interpretasi Coding**\n",
        "\n",
        "if len(A) != len(B): bertujuan untuk memeriksa panjang kedua array.\n",
        "\n",
        "freq_A = [0] * 11 ; freq_B = [0] * 11 bertujuan untuk merekam berapa kali angka muncul di masing masing array\n",
        "\n",
        "for num in A: freq_A[num] += 1 menghitung frekuensi dan disimpan ke dalam frekuensi yang sesuai\n",
        "\n",
        "return freq_A == freq_B membandingkan tabel frekuensi apakah anagram atau bukan\n",
        "\n",
        "m = int(input(\"Masukkan banyaknya elemen B: \"))input array\n",
        "\n",
        "if cek_anagram(A, B):cek anagram apakah b sesuai dengan a berarti cetak sebagai anagram, dan sebaliknya\n",
        "\n",
        "**Interpretasi Hasil**: Hal ini karena array B memiliki elemen yang sama dengan frekuensi kemunculan yang sama seperti array A.Jika array B memiliki elemen yang berbeda atau frekuensinya berbeda, output akan menjadi B adalah anagram dari A."
      ],
      "metadata": {
        "id": "svNuTSmzbpDa"
      }
    },
    {
      "cell_type": "code",
      "source": [
        "#Nomor 3 (output1)\n",
        "\n",
        "def cek_palindrom(text):\n",
        "    # String dibalik dan dibandingkan dengan string asli\n",
        "    # Jika sama, berarti palindrom\n",
        "    return text == text[::-1]\n",
        "\n",
        "# Input panjang string\n",
        "n = int(input(\"Masukkan panjang string: \"))\n",
        "\n",
        "# Input string\n",
        "text = input(\"Masukkan string: \")\n",
        "\n",
        "# Validasi panjang input\n",
        "if len(text) != n:\n",
        "    print(\"Panjang string tidak sesuai!\")\n",
        "else:\n",
        "    # Cek apakah palindrom dan tampilkan hasil\n",
        "    if cek_palindrom(text):\n",
        "        print(f\"{text} adalah palindrom\")\n",
        "    else:\n",
        "        print(f\"{text} bukan palindrom\")"
      ],
      "metadata": {
        "colab": {
          "base_uri": "https://localhost:8080/"
        },
        "id": "hnSauG58eyUX",
        "outputId": "1c00a57a-93a4-4f6a-ab86-60740c8ce5e6"
      },
      "execution_count": null,
      "outputs": [
        {
          "output_type": "stream",
          "name": "stdout",
          "text": [
            "Masukkan panjang string: 5\n",
            "Masukkan string: makan\n",
            "makan bukan palindrom\n"
          ]
        }
      ]
    },
    {
      "cell_type": "code",
      "source": [
        "#Output ke 2\n",
        "\n",
        "#Nomor 3\n",
        "\n",
        "def cek_palindrom(text):\n",
        "    # String dibalik dan dibandingkan dengan string asli\n",
        "    # Jika sama, berarti palindrom\n",
        "    return text == text[::-1]\n",
        "\n",
        "# Input panjang string\n",
        "n = int(input(\"Masukkan panjang string: \"))\n",
        "\n",
        "# Input string\n",
        "text = input(\"Masukkan string: \")\n",
        "\n",
        "# Validasi panjang input\n",
        "if len(text) != n:\n",
        "    print(\"Panjang string tidak sesuai!\")\n",
        "else:\n",
        "    # Cek apakah palindrom dan tampilkan hasil\n",
        "    if cek_palindrom(text):\n",
        "        print(f\"{text} adalah palindrom\")\n",
        "    else:\n",
        "        print(f\"{text} bukan palindrom\")"
      ],
      "metadata": {
        "colab": {
          "base_uri": "https://localhost:8080/"
        },
        "id": "Dwm_Zh3yfYjv",
        "outputId": "b9e134bb-5f9b-44fc-a2a2-2b6bf69fcde3"
      },
      "execution_count": null,
      "outputs": [
        {
          "output_type": "stream",
          "name": "stdout",
          "text": [
            "Masukkan panjang string: 10\n",
            "Masukkan string: kasurrusak\n",
            "kasurrusak adalah palindrom\n"
          ]
        }
      ]
    },
    {
      "cell_type": "code",
      "source": [
        "#Output ke 3\n",
        "\n",
        "#Nomor 3\n",
        "\n",
        "def cek_palindrom(text):\n",
        "    # String dibalik dan dibandingkan dengan string asli\n",
        "    # Jika sama, berarti palindrom\n",
        "    return text == text[::-1]\n",
        "\n",
        "# Input panjang string\n",
        "n = int(input(\"Masukkan panjang string: \"))\n",
        "\n",
        "# Input string\n",
        "text = input(\"Masukkan string: \")\n",
        "\n",
        "# Validasi panjang input\n",
        "if len(text) != n:\n",
        "    print(\"Panjang string tidak sesuai!\")\n",
        "else:\n",
        "    # Cek apakah palindrom dan tampilkan hasil\n",
        "    if cek_palindrom(text):\n",
        "        print(f\"{text} adalah palindrom\")\n",
        "    else:\n",
        "        print(f\"{text} bukan palindrom\")"
      ],
      "metadata": {
        "colab": {
          "base_uri": "https://localhost:8080/"
        },
        "id": "H3AGmTxdfd-3",
        "outputId": "6cf354a3-b475-43c9-b186-a2fa7a189837"
      },
      "execution_count": null,
      "outputs": [
        {
          "output_type": "stream",
          "name": "stdout",
          "text": [
            "Masukkan panjang string: 3\n",
            "Masukkan string: apa\n",
            "apa adalah palindrom\n"
          ]
        }
      ]
    },
    {
      "cell_type": "markdown",
      "source": [
        "**Interpretasi coding:**\n",
        "Fungsi is_palindrome(s): Fungsi ini menerima sebuah string s dan membandingkannya dengan versi terbalik dari string tersebut (s[::-1]). Jika keduanya sama, maka string tersebut adalah palindrom, dan fungsi mengembalikan True, sebaliknya mengembalikan False.\n",
        "\n",
        "Input dari pengguna: Program meminta pengguna untuk memasukkan panjang string dan string itu sendiri.\n",
        "\n",
        "Validasi panjang string: Program memeriksa apakah panjang string yang dimasukkan sesuai dengan nilai yang diminta. Jika tidak sesuai, program akan memberikan pesan kesalahan.\n",
        "\n",
        "Pemeriksaan palindrom: Jika panjang string sesuai, program akan menggunakan fungsi is_palindrome untuk memeriksa apakah string tersebut palindrom atau bukan, dan kemudian mencetak hasilnya.\n",
        "\n",
        "**Interpretasi Hasil:**\n",
        "Jika outputnya menyatakan bahwa string adalah palindrom, berarti string tersebut dapat dibaca sama dari depan maupun belakang (contoh: \"apa\", \"kasurrusak\").\n",
        "\n",
        "Jika outputnya menyatakan bahwa string bukan palindrom, berarti string tersebut tidak dapat dibaca sama dari depan dan belakang (contoh: \"makan\").\n",
        "\n",
        "Pesan kesalahan akan muncul jika panjang string yang dimasukkan tidak sesuai dengan panjang yang telah ditentukan."
      ],
      "metadata": {
        "id": "hhNg_JNBckXI"
      }
    },
    {
      "cell_type": "markdown",
      "source": [
        "#🏆 POST TEST 🎯"
      ],
      "metadata": {
        "id": "J_75vTSXKFGE"
      }
    },
    {
      "cell_type": "markdown",
      "source": [
        "Problem (1)"
      ],
      "metadata": {
        "id": "twhHfrqiKSfV"
      }
    },
    {
      "cell_type": "code",
      "source": [],
      "metadata": {
        "id": "hOI8Gls9KV05"
      },
      "execution_count": null,
      "outputs": []
    },
    {
      "cell_type": "markdown",
      "source": [
        "📌Catatan:\n",
        "  - Notebook python ini dibuat untuk memudahkan temen-temen belajar ngoding dan pengumpulan tugas.\n",
        "  - Silakan download notebook ini lalu upload di Google Collab milik kalian agar format `pertemuan`, `topik pertemuan`,\n",
        "`tanggal`, `deskripsi pembahasan materi`, `baris coding` dan `interpretasi` bisa disesuaikan dengan kebutuhan teman-teman.\n",
        "\n",
        "  - Interpretasi coding dan hasil dimaksudkan agar teman-teman semakin memahami apa yang dipelajari.\n",
        "\n",
        "  - Deskripsi pembahasan materi dimaksudkan agar teman-teman semakin memahami apa fokus yang dipelajari.\n",
        "\n",
        "  - Tulisan di setiap sebelum baris code disebut `markdown`. Ada beberapa jenis simbol yang memudahkan kepenulisan `markdown` kita, yaitu seperti : untuk mengatur ukuran tulisan biasanya tulisan pada header menggunakan ini`#`, `##`, `###`, untuk membuat pointer menggunakan ini `-`, untuk membuat tulisan ter-highlight menggunakan ini *` `* , untuk short-cut membuat tulisan jadi **bold** gunakan ini `** **`, dan untuk *tulisan miring* gunakan ini `* *` .\n",
        "\n",
        "  - Semangat belajar! 🌟✨\n",
        "\n",
        "©️ LABORATORIUM SAINS DATA 2024"
      ],
      "metadata": {
        "id": "D-tRQnbQK69l"
      }
    },
    {
      "cell_type": "markdown",
      "source": [],
      "metadata": {
        "id": "TIIIbYe1cik9"
      }
    }
  ]
}